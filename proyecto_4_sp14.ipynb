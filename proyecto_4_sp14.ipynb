{
 "cells": [
  {
   "cell_type": "markdown",
   "metadata": {},
   "source": [
    "# **URL de Google Drive**\n",
    "\n",
    "https://drive.google.com/drive/folders/1T5_ZH4ticaavgS41mpFZL5Mv__Rg71pA"
   ]
  },
  {
   "cell_type": "markdown",
   "metadata": {},
   "source": [
    "# **Proyecto: Telecomunicaciones: identificar operadores ineficaces**\n",
    "\n",
    "\n",
    "El servicio de telefonía virtual CallMeMaybe está desarrollando una nueva función que brindará a los supervisores y las supervisores información sobre los operadores menos eficaces. Se considera que un operador es ineficaz si tiene una gran cantidad de llamadas entrantes perdidas (internas y externas) y un tiempo de espera prolongado para las llamadas entrantes. Además, si se supone que un operador debe realizar llamadas salientes, un número reducido de ellas también será un signo de ineficacia."
   ]
  },
  {
   "cell_type": "markdown",
   "metadata": {},
   "source": [
    "\n",
    "\n",
    "Según la información contenida en [Proyecto Final: Telecomunicaciones: identificar operadores ineficaces](https://coding-bootcamps.notion.site/Proyecto-Final-Telecomunicaciones-identificar-operadores-ineficaces-6f04c12cd9934057a816065922ec5a60)\n",
    "\n",
    "Se tienen los siguientes datasets:\n",
    "\n",
    "\n",
    "El dataset comprimido **telecom_dataset_us**.csv contiene las siguientes columnas:\n",
    "\n",
    "- user_id: ID de la cuenta de cliente\n",
    "- date: fecha en la que se recuperaron las estadísticas\n",
    "- direction: \"dirección\" de llamada (out para saliente, in para entrante)\n",
    "- internal: si la llamada fue interna (entre los operadores de un cliente o clienta)\n",
    "- operator_id: identificador del operador\n",
    "- is_missed_call: si fue una llamada perdida\n",
    "- calls_count: número de llamadas\n",
    "- call_duration: duración de la llamada (sin incluir el tiempo de espera)\n",
    "- total_call_duration: duración de la llamada (incluido el tiempo de espera)\n",
    "\n",
    " \n",
    "\n",
    "El conjunto de datos **telecom_clients_us**.csv tiene las siguientes columnas:\n",
    "\n",
    "- user_id: ID de usuario/a\n",
    "- tariff_plan: tarifa actual de la clientela\n",
    "- date_start: fecha de registro de la clientela"
   ]
  },
  {
   "cell_type": "markdown",
   "metadata": {},
   "source": [
    "# **1 Definir el Objetivo**\n",
    "\n"
   ]
  },
  {
   "cell_type": "markdown",
   "metadata": {},
   "source": [
    "## **1.1 ¿Qué quieres conseguir y por qué?**\n",
    "\n",
    "**Objetivo:**\n",
    "En este caso, el objetivo principal es identificar a aquellos operadores que sean los menos eficaces en el servicio de telefonía virtual CallMeMaybe con el propósito de mejorar la eficiencia operativa y la calidad del servicio ofrecido a los clientes.\n",
    "\n",
    "**Justificación:**\n",
    "El propósito del objetivo va dirigido a optimizar el rendimiento de los operadores y garantizar una experiencia de calidad estandarizada a los usuarios finales. Al identificar a los operadores ineficaces se logrará proponer y ejecutar acciones correctivas en función a mejorar las habilidades/fortaleza y reforzar deficiencias/debilidades de los operadores. Proponer acciones como capacitación adicional, reestructuración de tareas o, si es necesario, reemplazar al operador.\n",
    "\n",
    "La mejora en la eficiencia reducirá las llamadas perdidas, disminuirá el tiempo de espera y aumentará la productividad de las llamadas salientes, mejorando así la satisfacción del cliente."
   ]
  },
  {
   "cell_type": "markdown",
   "metadata": {},
   "source": [
    "## **1.2 ¿A quién le interesa lo que produces?**\n",
    "\n",
    "- **Supervisores de operadores:** Son la primera capa de interés jerárquico en el proceso. Necesitan información para identificar a los operadores menos eficaces y tomar medidas correctivas y/o de retroalimentación al proceso.\n",
    "- **Gerentes de CallMeMaybe:** Interesados en mejorar la calidad del servicio y la satisfacción del cliente, además de optimizar la utilización del personal a su cargo.\n",
    "- **Clientes (organizaciones):** Se beneficiarán de un servicio más eficiente y una menor cantidad de llamadas perdidas o tiempos de espera prolongados.\n",
    "- **Operadores:** Al ser los directamente los implicados en el proceso de interacción con los clientes, una mejora en su rendimiento les ayudará a obtener mayor tranquilidad al saber que están haciendo bien su trabajo."
   ]
  },
  {
   "cell_type": "markdown",
   "metadata": {},
   "source": [
    "## **1.3¿Qué decisiones se tomarán de acuerdo a tu análisis?**\n",
    "\n",
    "- **Capacitación de operadores:** Identificar necesidades de capacitación para mejorar el desempeño de operadores ineficaces y de aquellos que estén haciendo bien su trabajo actualmente (ejemplos a seguir).\n",
    "- **Redistribución de tareas:** Ajustar la carga de trabajo y responsabilidades de los operadores para equilibrar la eficiencia operativa. Además de eliminar tareas que puedan resultar innecesarias.\n",
    "- **Revisión de procedimientos:** Implementar cambios en los procedimientos de manejo de llamadas para reducir los tiempos de espera y las llamadas perdidas.\n",
    "- **Evaluación de rendimiento:** Realizar evaluaciones periódicas del rendimiento de los operadores utilizando métricas clave para garantizar la mejora continua.\n",
    "- **Optimización del servicio:** Ajustar las estrategias operativas y los planes de acción para mejorar la eficiencia general del servicio de telefonía virtual.\n",
    "- **Retroalimentación del proceso:** Al establecer acciones de retroalimentación, se garantiza la vinculación de todos aquellos actores implicados en el proceso y que tengan la capacidad de establecer acciones propositivas, documentadas y de mejora continua que alimenten el proceso constantemente, indiferente de su posición jerárquica en la empresa.\n",
    "\n",
    "Con estos objetivos y decisiones en mente, podemos proceder a especificar los detalles y desarrollar un plan de acción claro para llevar a cabo el análisis."
   ]
  },
  {
   "cell_type": "markdown",
   "metadata": {},
   "source": [
    "# **2. Especificar los Detalles**"
   ]
  },
  {
   "cell_type": "markdown",
   "metadata": {},
   "source": [
    "## **2.1 Establecer el contexto del problema:**\n",
    "\n",
    "Los operadores de CallMeMaybe son considerados ineficaces si:\n",
    "- Tienen una gran cantidad de llamadas entrantes perdidas (internas y externas).\n",
    "- Tienen un tiempo de espera prolongado para las llamadas entrantes.\n",
    "- Tienen un número reducido de llamadas salientes, especialmente si se supone que deben realizar dichas llamadas."
   ]
  },
  {
   "cell_type": "markdown",
   "metadata": {},
   "source": [
    "## **2.2 Ineficacia: ¿Cómo definirla?**"
   ]
  },
  {
   "cell_type": "markdown",
   "metadata": {},
   "source": [
    "Para definir la ineficacia de los operadores, podemos establecer los siguientes parámetros y umbrales basados en las métricas clave:\n",
    "\n",
    "1. **Cantidad de llamadas entrantes perdidas (internas y externas):**\n",
    "   - **Umbral:** Un operador se consideraría ineficaz si su porcentaje de llamadas entrantes perdidas es superior al promedio general de llamadas entrantes perdidas más 1 desviación estándar.\n",
    "\n",
    "2. **Tiempo de espera prolongado para llamadas entrantes:**\n",
    "   - **Umbral:** Un operador se consideraría ineficaz si el tiempo de espera promedio para las llamadas entrantes es superior al promedio general del tiempo de espera promedio para llamadas entrantes más 1 desviación estándar.\n",
    "\n",
    "3. **Número reducido de llamadas salientes:**\n",
    "   - **Umbral:** Un operador se consideraría ineficaz si el número de llamadas salientes realizadas está por debajo del promedio general menos 1 desviación estándar, considerando eso sí, solo a aquellos operadores que tienen la tarea asignada de realizar llamadas salientes."
   ]
  },
  {
   "cell_type": "markdown",
   "metadata": {},
   "source": [
    "# **3. Etapa de Preprocesamiento**\n",
    "\n",
    "Artículo consultado: https://medium.com/@dossieranalysis/python-for-data-cleaning-best-practices-and-efficient-techniques-3072ed3935af"
   ]
  },
  {
   "cell_type": "markdown",
   "metadata": {},
   "source": [
    "## **3.1 Información Preliminar y Significado de la información**"
   ]
  },
  {
   "cell_type": "markdown",
   "metadata": {},
   "source": [
    "Según la información contenida en [Proyecto Final: Telecomunicaciones: identificar operadores ineficaces](https://coding-bootcamps.notion.site/Proyecto-Final-Telecomunicaciones-identificar-operadores-ineficaces-6f04c12cd9934057a816065922ec5a60)\n",
    "\n",
    "Se tienen los siguientes datasets:\n",
    "\n",
    "\n",
    "El dataset comprimido **telecom_dataset_us**.csv contiene las siguientes columnas:\n",
    "\n",
    "- user_id: ID de la cuenta de cliente\n",
    "- date: fecha en la que se recuperaron las estadísticas\n",
    "- direction: \"dirección\" de llamada (out para saliente, in para entrante)\n",
    "- internal: si la llamada fue interna (entre los operadores de un cliente o clienta)\n",
    "- operator_id: identificador del operador\n",
    "- is_missed_call: si fue una llamada perdida\n",
    "- calls_count: número de llamadas\n",
    "- call_duration: duración de la llamada (sin incluir el tiempo de espera)\n",
    "- total_call_duration: duración de la llamada (incluido el tiempo de espera)\n",
    "\n",
    " \n",
    "\n",
    "El conjunto de datos **telecom_clients_us**.csv tiene las siguientes columnas:\n",
    "\n",
    "- user_id: ID de usuario/a\n",
    "- tariff_plan: tarifa actual de la clientela\n",
    "- date_start: fecha de registro de la clientela"
   ]
  },
  {
   "cell_type": "markdown",
   "metadata": {},
   "source": [
    "## **3.2 Importación de librerías:**"
   ]
  },
  {
   "cell_type": "code",
   "execution_count": 162,
   "metadata": {},
   "outputs": [],
   "source": [
    "# Importe de librerías para desarrollar el proyecto:\n",
    "\n",
    "import pandas as pd\n",
    "import seaborn as sns\n",
    "import matplotlib.pyplot as plt\n",
    "from scipy.stats import pearsonr, spearmanr, kendalltau, pointbiserialr, ttest_ind\n",
    "from statsmodels.stats.proportion import proportions_ztest"
   ]
  },
  {
   "cell_type": "markdown",
   "metadata": {},
   "source": [
    "## **3.3 Carga de datos y revisión preliminar de la estructura de los datos:**"
   ]
  },
  {
   "cell_type": "code",
   "execution_count": 102,
   "metadata": {},
   "outputs": [],
   "source": [
    "# Carga de datos:\n",
    "\n",
    "telecom_df = pd.read_csv('https://practicum-content.s3.us-west-1.amazonaws.com/datasets/telecom_dataset_us.csv')\n",
    "clients_df = pd.read_csv('https://practicum-content.s3.us-west-1.amazonaws.com/datasets/telecom_clients_us.csv')"
   ]
  },
  {
   "cell_type": "code",
   "execution_count": 103,
   "metadata": {},
   "outputs": [
    {
     "name": "stdout",
     "output_type": "stream",
     "text": [
      "<class 'pandas.core.frame.DataFrame'>\n",
      "RangeIndex: 53902 entries, 0 to 53901\n",
      "Data columns (total 9 columns):\n",
      " #   Column               Non-Null Count  Dtype  \n",
      "---  ------               --------------  -----  \n",
      " 0   user_id              53902 non-null  int64  \n",
      " 1   date                 53902 non-null  object \n",
      " 2   direction            53902 non-null  object \n",
      " 3   internal             53785 non-null  object \n",
      " 4   operator_id          45730 non-null  float64\n",
      " 5   is_missed_call       53902 non-null  bool   \n",
      " 6   calls_count          53902 non-null  int64  \n",
      " 7   call_duration        53902 non-null  int64  \n",
      " 8   total_call_duration  53902 non-null  int64  \n",
      "dtypes: bool(1), float64(1), int64(4), object(3)\n",
      "memory usage: 3.3+ MB\n"
     ]
    },
    {
     "data": {
      "text/plain": [
       "None"
      ]
     },
     "metadata": {},
     "output_type": "display_data"
    }
   ],
   "source": [
    "# Revisión preliminar del primer DataFrame:\n",
    "\n",
    "display(telecom_df.info())"
   ]
  },
  {
   "cell_type": "code",
   "execution_count": 104,
   "metadata": {},
   "outputs": [
    {
     "data": {
      "text/html": [
       "<div>\n",
       "<style scoped>\n",
       "    .dataframe tbody tr th:only-of-type {\n",
       "        vertical-align: middle;\n",
       "    }\n",
       "\n",
       "    .dataframe tbody tr th {\n",
       "        vertical-align: top;\n",
       "    }\n",
       "\n",
       "    .dataframe thead th {\n",
       "        text-align: right;\n",
       "    }\n",
       "</style>\n",
       "<table border=\"1\" class=\"dataframe\">\n",
       "  <thead>\n",
       "    <tr style=\"text-align: right;\">\n",
       "      <th></th>\n",
       "      <th>user_id</th>\n",
       "      <th>date</th>\n",
       "      <th>direction</th>\n",
       "      <th>internal</th>\n",
       "      <th>operator_id</th>\n",
       "      <th>is_missed_call</th>\n",
       "      <th>calls_count</th>\n",
       "      <th>call_duration</th>\n",
       "      <th>total_call_duration</th>\n",
       "    </tr>\n",
       "  </thead>\n",
       "  <tbody>\n",
       "    <tr>\n",
       "      <th>45538</th>\n",
       "      <td>168062</td>\n",
       "      <td>2019-11-27 00:00:00+03:00</td>\n",
       "      <td>out</td>\n",
       "      <td>False</td>\n",
       "      <td>947650.0</td>\n",
       "      <td>True</td>\n",
       "      <td>56</td>\n",
       "      <td>0</td>\n",
       "      <td>1288</td>\n",
       "    </tr>\n",
       "    <tr>\n",
       "      <th>21338</th>\n",
       "      <td>167031</td>\n",
       "      <td>2019-10-16 00:00:00+03:00</td>\n",
       "      <td>out</td>\n",
       "      <td>False</td>\n",
       "      <td>910530.0</td>\n",
       "      <td>True</td>\n",
       "      <td>54</td>\n",
       "      <td>0</td>\n",
       "      <td>1728</td>\n",
       "    </tr>\n",
       "    <tr>\n",
       "      <th>2138</th>\n",
       "      <td>166406</td>\n",
       "      <td>2019-10-28 00:00:00+03:00</td>\n",
       "      <td>out</td>\n",
       "      <td>False</td>\n",
       "      <td>879898.0</td>\n",
       "      <td>True</td>\n",
       "      <td>44</td>\n",
       "      <td>0</td>\n",
       "      <td>1024</td>\n",
       "    </tr>\n",
       "    <tr>\n",
       "      <th>40645</th>\n",
       "      <td>167827</td>\n",
       "      <td>2019-10-28 00:00:00+03:00</td>\n",
       "      <td>out</td>\n",
       "      <td>False</td>\n",
       "      <td>929426.0</td>\n",
       "      <td>True</td>\n",
       "      <td>4</td>\n",
       "      <td>0</td>\n",
       "      <td>69</td>\n",
       "    </tr>\n",
       "    <tr>\n",
       "      <th>39989</th>\n",
       "      <td>167792</td>\n",
       "      <td>2019-10-21 00:00:00+03:00</td>\n",
       "      <td>in</td>\n",
       "      <td>False</td>\n",
       "      <td>933832.0</td>\n",
       "      <td>False</td>\n",
       "      <td>2</td>\n",
       "      <td>75</td>\n",
       "      <td>100</td>\n",
       "    </tr>\n",
       "    <tr>\n",
       "      <th>11027</th>\n",
       "      <td>166680</td>\n",
       "      <td>2019-11-25 00:00:00+03:00</td>\n",
       "      <td>out</td>\n",
       "      <td>False</td>\n",
       "      <td>960296.0</td>\n",
       "      <td>True</td>\n",
       "      <td>53</td>\n",
       "      <td>0</td>\n",
       "      <td>119</td>\n",
       "    </tr>\n",
       "    <tr>\n",
       "      <th>53429</th>\n",
       "      <td>168412</td>\n",
       "      <td>2019-11-27 00:00:00+03:00</td>\n",
       "      <td>out</td>\n",
       "      <td>True</td>\n",
       "      <td>953460.0</td>\n",
       "      <td>True</td>\n",
       "      <td>1</td>\n",
       "      <td>0</td>\n",
       "      <td>0</td>\n",
       "    </tr>\n",
       "    <tr>\n",
       "      <th>5675</th>\n",
       "      <td>166533</td>\n",
       "      <td>2019-08-23 00:00:00+03:00</td>\n",
       "      <td>out</td>\n",
       "      <td>False</td>\n",
       "      <td>884478.0</td>\n",
       "      <td>True</td>\n",
       "      <td>42</td>\n",
       "      <td>0</td>\n",
       "      <td>923</td>\n",
       "    </tr>\n",
       "    <tr>\n",
       "      <th>42087</th>\n",
       "      <td>167939</td>\n",
       "      <td>2019-10-15 00:00:00+03:00</td>\n",
       "      <td>in</td>\n",
       "      <td>False</td>\n",
       "      <td>NaN</td>\n",
       "      <td>True</td>\n",
       "      <td>2</td>\n",
       "      <td>0</td>\n",
       "      <td>3</td>\n",
       "    </tr>\n",
       "    <tr>\n",
       "      <th>23639</th>\n",
       "      <td>167109</td>\n",
       "      <td>2019-09-10 00:00:00+03:00</td>\n",
       "      <td>in</td>\n",
       "      <td>False</td>\n",
       "      <td>NaN</td>\n",
       "      <td>True</td>\n",
       "      <td>16</td>\n",
       "      <td>0</td>\n",
       "      <td>287</td>\n",
       "    </tr>\n",
       "  </tbody>\n",
       "</table>\n",
       "</div>"
      ],
      "text/plain": [
       "       user_id                       date direction internal  operator_id  \\\n",
       "45538   168062  2019-11-27 00:00:00+03:00       out    False     947650.0   \n",
       "21338   167031  2019-10-16 00:00:00+03:00       out    False     910530.0   \n",
       "2138    166406  2019-10-28 00:00:00+03:00       out    False     879898.0   \n",
       "40645   167827  2019-10-28 00:00:00+03:00       out    False     929426.0   \n",
       "39989   167792  2019-10-21 00:00:00+03:00        in    False     933832.0   \n",
       "11027   166680  2019-11-25 00:00:00+03:00       out    False     960296.0   \n",
       "53429   168412  2019-11-27 00:00:00+03:00       out     True     953460.0   \n",
       "5675    166533  2019-08-23 00:00:00+03:00       out    False     884478.0   \n",
       "42087   167939  2019-10-15 00:00:00+03:00        in    False          NaN   \n",
       "23639   167109  2019-09-10 00:00:00+03:00        in    False          NaN   \n",
       "\n",
       "       is_missed_call  calls_count  call_duration  total_call_duration  \n",
       "45538            True           56              0                 1288  \n",
       "21338            True           54              0                 1728  \n",
       "2138             True           44              0                 1024  \n",
       "40645            True            4              0                   69  \n",
       "39989           False            2             75                  100  \n",
       "11027            True           53              0                  119  \n",
       "53429            True            1              0                    0  \n",
       "5675             True           42              0                  923  \n",
       "42087            True            2              0                    3  \n",
       "23639            True           16              0                  287  "
      ]
     },
     "metadata": {},
     "output_type": "display_data"
    }
   ],
   "source": [
    "display(telecom_df.sample(10))"
   ]
  },
  {
   "cell_type": "code",
   "execution_count": 105,
   "metadata": {},
   "outputs": [
    {
     "data": {
      "text/html": [
       "<div>\n",
       "<style scoped>\n",
       "    .dataframe tbody tr th:only-of-type {\n",
       "        vertical-align: middle;\n",
       "    }\n",
       "\n",
       "    .dataframe tbody tr th {\n",
       "        vertical-align: top;\n",
       "    }\n",
       "\n",
       "    .dataframe thead th {\n",
       "        text-align: right;\n",
       "    }\n",
       "</style>\n",
       "<table border=\"1\" class=\"dataframe\">\n",
       "  <thead>\n",
       "    <tr style=\"text-align: right;\">\n",
       "      <th></th>\n",
       "      <th>user_id</th>\n",
       "      <th>date</th>\n",
       "      <th>direction</th>\n",
       "      <th>internal</th>\n",
       "      <th>operator_id</th>\n",
       "      <th>is_missed_call</th>\n",
       "      <th>calls_count</th>\n",
       "      <th>call_duration</th>\n",
       "      <th>total_call_duration</th>\n",
       "    </tr>\n",
       "  </thead>\n",
       "  <tbody>\n",
       "    <tr>\n",
       "      <th>count</th>\n",
       "      <td>53902.000000</td>\n",
       "      <td>53902</td>\n",
       "      <td>53902</td>\n",
       "      <td>53785</td>\n",
       "      <td>45730.000000</td>\n",
       "      <td>53902</td>\n",
       "      <td>53902.000000</td>\n",
       "      <td>53902.000000</td>\n",
       "      <td>53902.000000</td>\n",
       "    </tr>\n",
       "    <tr>\n",
       "      <th>unique</th>\n",
       "      <td>NaN</td>\n",
       "      <td>119</td>\n",
       "      <td>2</td>\n",
       "      <td>2</td>\n",
       "      <td>NaN</td>\n",
       "      <td>2</td>\n",
       "      <td>NaN</td>\n",
       "      <td>NaN</td>\n",
       "      <td>NaN</td>\n",
       "    </tr>\n",
       "    <tr>\n",
       "      <th>top</th>\n",
       "      <td>NaN</td>\n",
       "      <td>2019-11-25 00:00:00+03:00</td>\n",
       "      <td>out</td>\n",
       "      <td>False</td>\n",
       "      <td>NaN</td>\n",
       "      <td>False</td>\n",
       "      <td>NaN</td>\n",
       "      <td>NaN</td>\n",
       "      <td>NaN</td>\n",
       "    </tr>\n",
       "    <tr>\n",
       "      <th>freq</th>\n",
       "      <td>NaN</td>\n",
       "      <td>1220</td>\n",
       "      <td>31917</td>\n",
       "      <td>47621</td>\n",
       "      <td>NaN</td>\n",
       "      <td>30334</td>\n",
       "      <td>NaN</td>\n",
       "      <td>NaN</td>\n",
       "      <td>NaN</td>\n",
       "    </tr>\n",
       "    <tr>\n",
       "      <th>mean</th>\n",
       "      <td>167295.344477</td>\n",
       "      <td>NaN</td>\n",
       "      <td>NaN</td>\n",
       "      <td>NaN</td>\n",
       "      <td>916535.993002</td>\n",
       "      <td>NaN</td>\n",
       "      <td>16.451245</td>\n",
       "      <td>866.684427</td>\n",
       "      <td>1157.133297</td>\n",
       "    </tr>\n",
       "    <tr>\n",
       "      <th>std</th>\n",
       "      <td>598.883775</td>\n",
       "      <td>NaN</td>\n",
       "      <td>NaN</td>\n",
       "      <td>NaN</td>\n",
       "      <td>21254.123136</td>\n",
       "      <td>NaN</td>\n",
       "      <td>62.917170</td>\n",
       "      <td>3731.791202</td>\n",
       "      <td>4403.468763</td>\n",
       "    </tr>\n",
       "    <tr>\n",
       "      <th>min</th>\n",
       "      <td>166377.000000</td>\n",
       "      <td>NaN</td>\n",
       "      <td>NaN</td>\n",
       "      <td>NaN</td>\n",
       "      <td>879896.000000</td>\n",
       "      <td>NaN</td>\n",
       "      <td>1.000000</td>\n",
       "      <td>0.000000</td>\n",
       "      <td>0.000000</td>\n",
       "    </tr>\n",
       "    <tr>\n",
       "      <th>25%</th>\n",
       "      <td>166782.000000</td>\n",
       "      <td>NaN</td>\n",
       "      <td>NaN</td>\n",
       "      <td>NaN</td>\n",
       "      <td>900788.000000</td>\n",
       "      <td>NaN</td>\n",
       "      <td>1.000000</td>\n",
       "      <td>0.000000</td>\n",
       "      <td>47.000000</td>\n",
       "    </tr>\n",
       "    <tr>\n",
       "      <th>50%</th>\n",
       "      <td>167162.000000</td>\n",
       "      <td>NaN</td>\n",
       "      <td>NaN</td>\n",
       "      <td>NaN</td>\n",
       "      <td>913938.000000</td>\n",
       "      <td>NaN</td>\n",
       "      <td>4.000000</td>\n",
       "      <td>38.000000</td>\n",
       "      <td>210.000000</td>\n",
       "    </tr>\n",
       "    <tr>\n",
       "      <th>75%</th>\n",
       "      <td>167819.000000</td>\n",
       "      <td>NaN</td>\n",
       "      <td>NaN</td>\n",
       "      <td>NaN</td>\n",
       "      <td>937708.000000</td>\n",
       "      <td>NaN</td>\n",
       "      <td>12.000000</td>\n",
       "      <td>572.000000</td>\n",
       "      <td>902.000000</td>\n",
       "    </tr>\n",
       "    <tr>\n",
       "      <th>max</th>\n",
       "      <td>168606.000000</td>\n",
       "      <td>NaN</td>\n",
       "      <td>NaN</td>\n",
       "      <td>NaN</td>\n",
       "      <td>973286.000000</td>\n",
       "      <td>NaN</td>\n",
       "      <td>4817.000000</td>\n",
       "      <td>144395.000000</td>\n",
       "      <td>166155.000000</td>\n",
       "    </tr>\n",
       "  </tbody>\n",
       "</table>\n",
       "</div>"
      ],
      "text/plain": [
       "              user_id                       date direction internal  \\\n",
       "count    53902.000000                      53902     53902    53785   \n",
       "unique            NaN                        119         2        2   \n",
       "top               NaN  2019-11-25 00:00:00+03:00       out    False   \n",
       "freq              NaN                       1220     31917    47621   \n",
       "mean    167295.344477                        NaN       NaN      NaN   \n",
       "std        598.883775                        NaN       NaN      NaN   \n",
       "min     166377.000000                        NaN       NaN      NaN   \n",
       "25%     166782.000000                        NaN       NaN      NaN   \n",
       "50%     167162.000000                        NaN       NaN      NaN   \n",
       "75%     167819.000000                        NaN       NaN      NaN   \n",
       "max     168606.000000                        NaN       NaN      NaN   \n",
       "\n",
       "          operator_id is_missed_call   calls_count  call_duration  \\\n",
       "count    45730.000000          53902  53902.000000   53902.000000   \n",
       "unique            NaN              2           NaN            NaN   \n",
       "top               NaN          False           NaN            NaN   \n",
       "freq              NaN          30334           NaN            NaN   \n",
       "mean    916535.993002            NaN     16.451245     866.684427   \n",
       "std      21254.123136            NaN     62.917170    3731.791202   \n",
       "min     879896.000000            NaN      1.000000       0.000000   \n",
       "25%     900788.000000            NaN      1.000000       0.000000   \n",
       "50%     913938.000000            NaN      4.000000      38.000000   \n",
       "75%     937708.000000            NaN     12.000000     572.000000   \n",
       "max     973286.000000            NaN   4817.000000  144395.000000   \n",
       "\n",
       "        total_call_duration  \n",
       "count          53902.000000  \n",
       "unique                  NaN  \n",
       "top                     NaN  \n",
       "freq                    NaN  \n",
       "mean            1157.133297  \n",
       "std             4403.468763  \n",
       "min                0.000000  \n",
       "25%               47.000000  \n",
       "50%              210.000000  \n",
       "75%              902.000000  \n",
       "max           166155.000000  "
      ]
     },
     "metadata": {},
     "output_type": "display_data"
    }
   ],
   "source": [
    "display(telecom_df.describe(include='all'))"
   ]
  },
  {
   "cell_type": "code",
   "execution_count": 106,
   "metadata": {},
   "outputs": [
    {
     "name": "stdout",
     "output_type": "stream",
     "text": [
      "<class 'pandas.core.frame.DataFrame'>\n",
      "RangeIndex: 732 entries, 0 to 731\n",
      "Data columns (total 3 columns):\n",
      " #   Column       Non-Null Count  Dtype \n",
      "---  ------       --------------  ----- \n",
      " 0   user_id      732 non-null    int64 \n",
      " 1   tariff_plan  732 non-null    object\n",
      " 2   date_start   732 non-null    object\n",
      "dtypes: int64(1), object(2)\n",
      "memory usage: 17.3+ KB\n"
     ]
    },
    {
     "data": {
      "text/plain": [
       "None"
      ]
     },
     "metadata": {},
     "output_type": "display_data"
    }
   ],
   "source": [
    "# Revisión preliminar del segundo DataFrame:\n",
    "\n",
    "display(clients_df.info())"
   ]
  },
  {
   "cell_type": "code",
   "execution_count": 107,
   "metadata": {},
   "outputs": [
    {
     "data": {
      "text/html": [
       "<div>\n",
       "<style scoped>\n",
       "    .dataframe tbody tr th:only-of-type {\n",
       "        vertical-align: middle;\n",
       "    }\n",
       "\n",
       "    .dataframe tbody tr th {\n",
       "        vertical-align: top;\n",
       "    }\n",
       "\n",
       "    .dataframe thead th {\n",
       "        text-align: right;\n",
       "    }\n",
       "</style>\n",
       "<table border=\"1\" class=\"dataframe\">\n",
       "  <thead>\n",
       "    <tr style=\"text-align: right;\">\n",
       "      <th></th>\n",
       "      <th>user_id</th>\n",
       "      <th>tariff_plan</th>\n",
       "      <th>date_start</th>\n",
       "    </tr>\n",
       "  </thead>\n",
       "  <tbody>\n",
       "    <tr>\n",
       "      <th>40</th>\n",
       "      <td>166523</td>\n",
       "      <td>A</td>\n",
       "      <td>2019-08-07</td>\n",
       "    </tr>\n",
       "    <tr>\n",
       "      <th>139</th>\n",
       "      <td>167471</td>\n",
       "      <td>C</td>\n",
       "      <td>2019-09-18</td>\n",
       "    </tr>\n",
       "    <tr>\n",
       "      <th>320</th>\n",
       "      <td>167019</td>\n",
       "      <td>C</td>\n",
       "      <td>2019-08-28</td>\n",
       "    </tr>\n",
       "    <tr>\n",
       "      <th>694</th>\n",
       "      <td>166464</td>\n",
       "      <td>B</td>\n",
       "      <td>2019-08-05</td>\n",
       "    </tr>\n",
       "    <tr>\n",
       "      <th>85</th>\n",
       "      <td>167364</td>\n",
       "      <td>C</td>\n",
       "      <td>2019-09-13</td>\n",
       "    </tr>\n",
       "    <tr>\n",
       "      <th>224</th>\n",
       "      <td>167941</td>\n",
       "      <td>C</td>\n",
       "      <td>2019-10-07</td>\n",
       "    </tr>\n",
       "    <tr>\n",
       "      <th>502</th>\n",
       "      <td>167969</td>\n",
       "      <td>B</td>\n",
       "      <td>2019-10-08</td>\n",
       "    </tr>\n",
       "    <tr>\n",
       "      <th>608</th>\n",
       "      <td>166956</td>\n",
       "      <td>B</td>\n",
       "      <td>2019-08-26</td>\n",
       "    </tr>\n",
       "    <tr>\n",
       "      <th>415</th>\n",
       "      <td>167042</td>\n",
       "      <td>C</td>\n",
       "      <td>2019-08-29</td>\n",
       "    </tr>\n",
       "    <tr>\n",
       "      <th>731</th>\n",
       "      <td>166565</td>\n",
       "      <td>B</td>\n",
       "      <td>2019-08-08</td>\n",
       "    </tr>\n",
       "  </tbody>\n",
       "</table>\n",
       "</div>"
      ],
      "text/plain": [
       "     user_id tariff_plan  date_start\n",
       "40    166523           A  2019-08-07\n",
       "139   167471           C  2019-09-18\n",
       "320   167019           C  2019-08-28\n",
       "694   166464           B  2019-08-05\n",
       "85    167364           C  2019-09-13\n",
       "224   167941           C  2019-10-07\n",
       "502   167969           B  2019-10-08\n",
       "608   166956           B  2019-08-26\n",
       "415   167042           C  2019-08-29\n",
       "731   166565           B  2019-08-08"
      ]
     },
     "metadata": {},
     "output_type": "display_data"
    }
   ],
   "source": [
    "display(clients_df.sample(10))"
   ]
  },
  {
   "cell_type": "code",
   "execution_count": 108,
   "metadata": {},
   "outputs": [
    {
     "data": {
      "text/html": [
       "<div>\n",
       "<style scoped>\n",
       "    .dataframe tbody tr th:only-of-type {\n",
       "        vertical-align: middle;\n",
       "    }\n",
       "\n",
       "    .dataframe tbody tr th {\n",
       "        vertical-align: top;\n",
       "    }\n",
       "\n",
       "    .dataframe thead th {\n",
       "        text-align: right;\n",
       "    }\n",
       "</style>\n",
       "<table border=\"1\" class=\"dataframe\">\n",
       "  <thead>\n",
       "    <tr style=\"text-align: right;\">\n",
       "      <th></th>\n",
       "      <th>user_id</th>\n",
       "      <th>tariff_plan</th>\n",
       "      <th>date_start</th>\n",
       "    </tr>\n",
       "  </thead>\n",
       "  <tbody>\n",
       "    <tr>\n",
       "      <th>count</th>\n",
       "      <td>732.000000</td>\n",
       "      <td>732</td>\n",
       "      <td>732</td>\n",
       "    </tr>\n",
       "    <tr>\n",
       "      <th>unique</th>\n",
       "      <td>NaN</td>\n",
       "      <td>3</td>\n",
       "      <td>73</td>\n",
       "    </tr>\n",
       "    <tr>\n",
       "      <th>top</th>\n",
       "      <td>NaN</td>\n",
       "      <td>C</td>\n",
       "      <td>2019-09-24</td>\n",
       "    </tr>\n",
       "    <tr>\n",
       "      <th>freq</th>\n",
       "      <td>NaN</td>\n",
       "      <td>395</td>\n",
       "      <td>24</td>\n",
       "    </tr>\n",
       "    <tr>\n",
       "      <th>mean</th>\n",
       "      <td>167431.927596</td>\n",
       "      <td>NaN</td>\n",
       "      <td>NaN</td>\n",
       "    </tr>\n",
       "    <tr>\n",
       "      <th>std</th>\n",
       "      <td>633.810383</td>\n",
       "      <td>NaN</td>\n",
       "      <td>NaN</td>\n",
       "    </tr>\n",
       "    <tr>\n",
       "      <th>min</th>\n",
       "      <td>166373.000000</td>\n",
       "      <td>NaN</td>\n",
       "      <td>NaN</td>\n",
       "    </tr>\n",
       "    <tr>\n",
       "      <th>25%</th>\n",
       "      <td>166900.750000</td>\n",
       "      <td>NaN</td>\n",
       "      <td>NaN</td>\n",
       "    </tr>\n",
       "    <tr>\n",
       "      <th>50%</th>\n",
       "      <td>167432.000000</td>\n",
       "      <td>NaN</td>\n",
       "      <td>NaN</td>\n",
       "    </tr>\n",
       "    <tr>\n",
       "      <th>75%</th>\n",
       "      <td>167973.000000</td>\n",
       "      <td>NaN</td>\n",
       "      <td>NaN</td>\n",
       "    </tr>\n",
       "    <tr>\n",
       "      <th>max</th>\n",
       "      <td>168606.000000</td>\n",
       "      <td>NaN</td>\n",
       "      <td>NaN</td>\n",
       "    </tr>\n",
       "  </tbody>\n",
       "</table>\n",
       "</div>"
      ],
      "text/plain": [
       "              user_id tariff_plan  date_start\n",
       "count      732.000000         732         732\n",
       "unique            NaN           3          73\n",
       "top               NaN           C  2019-09-24\n",
       "freq              NaN         395          24\n",
       "mean    167431.927596         NaN         NaN\n",
       "std        633.810383         NaN         NaN\n",
       "min     166373.000000         NaN         NaN\n",
       "25%     166900.750000         NaN         NaN\n",
       "50%     167432.000000         NaN         NaN\n",
       "75%     167973.000000         NaN         NaN\n",
       "max     168606.000000         NaN         NaN"
      ]
     },
     "metadata": {},
     "output_type": "display_data"
    }
   ],
   "source": [
    "display(clients_df.describe(include='all'))"
   ]
  },
  {
   "cell_type": "markdown",
   "metadata": {},
   "source": [
    "Luego de la carga de datos y revisión preliminar de ambos dataframes, podemos destacar lo siguiente:\n",
    "\n",
    "1. **telecom_df**:  \n",
    "    - Existen 53902 registros, de los cuales todas las columnas contienen registros No-Nulos salvo la columna **`operator_id`** que contiene 8055 registros nulos y la columna **`internal`** 117 registros nulos. Dado el hecho que **`operator_id`** es la columna que identifica de qué operador se trata, no se pueden hacer reasignaciones a dichos valores nulos y lo más idóneo en este caso es eliminar dichos datos del análisis. De ahí, los registros resultantes que sigan siendo nulos en **`internal`** serán reasignados como 'Unknown'.\n",
    "    - Las columnas **`date`** será modificadas a tipo date respectivamente.\n",
    "2. **clients_df**:\n",
    "    - Existen 732 registros en total, de los cuales todas las columnas contienen registros No-Nulos (es decir, no hay datos nulos).\n",
    "    - Las columnas **`tariff_plan`, `date_start`** serán modificadas a tipo Category para obtener un [mejor procesamiento de los datos](https://pfr.com.ar/dtypes/) y date respectivamente.\n",
    "\n",
    "Ambos datasets tienen su formato snake_case en sus respectivas columnas."
   ]
  },
  {
   "cell_type": "markdown",
   "metadata": {},
   "source": [
    "## **3.4 Limpieza y estandarización de los datos previos al análisis:**"
   ]
  },
  {
   "cell_type": "markdown",
   "metadata": {},
   "source": [
    "### **3.4.1 Estudiar los valores ausentes:**\n",
    "\n",
    "En este paso se define cuantos registros ausentes existen en los datasets, se define la relevancia y su proporción respecto al resto de registros y en base a eso se define sí los valores ausentes:\n",
    "\n",
    "    - Se eliminan\n",
    "    - Se reemplazan por un valor coherente\n",
    "    - Se les asigna un valor de 0, o de la media/mediana en función de los valores que se registren en dicha columna.\n",
    "\n",
    "Cabe mencionar, que en este caso se analiza el Dataframe telecom_df según lo comentado anteriormente de las columnas **`operator_id` y `internal`**."
   ]
  },
  {
   "cell_type": "code",
   "execution_count": 109,
   "metadata": {},
   "outputs": [
    {
     "data": {
      "text/plain": [
       "user_id                   0\n",
       "date                      0\n",
       "direction                 0\n",
       "internal                117\n",
       "operator_id            8172\n",
       "is_missed_call            0\n",
       "calls_count               0\n",
       "call_duration             0\n",
       "total_call_duration       0\n",
       "dtype: int64"
      ]
     },
     "metadata": {},
     "output_type": "display_data"
    }
   ],
   "source": [
    "# Revisión de datos nulos/ausentes:\n",
    "\n",
    "display(telecom_df.isnull().sum())"
   ]
  },
  {
   "cell_type": "code",
   "execution_count": 110,
   "metadata": {},
   "outputs": [],
   "source": [
    "# Asignación de valor 'Unknown' a valores ausentes en telecom_df['internal']:\n",
    "telecom_df['internal'] = telecom_df['internal'].fillna('Unknown')\n",
    "\n",
    "# No consideración de los valores ausentes en telecom_df['operator_id']:\n",
    "telecom_df = telecom_df[~telecom_df['operator_id'].isnull()]"
   ]
  },
  {
   "cell_type": "markdown",
   "metadata": {},
   "source": [
    "Finalmente se decide no considerar los datos ausentes en 'operator_id' ya que como se definió el Objetivo Principal del estudio es identificar a los usuarios ineficaces, el no tener el id de un operador hace que el registro no cumpla con el propósito."
   ]
  },
  {
   "cell_type": "markdown",
   "metadata": {},
   "source": [
    "### **3.4.2 Eliminación de datos duplicados:**"
   ]
  },
  {
   "cell_type": "code",
   "execution_count": 111,
   "metadata": {},
   "outputs": [
    {
     "name": "stdout",
     "output_type": "stream",
     "text": [
      "4184\n",
      "\n",
      "0\n"
     ]
    }
   ],
   "source": [
    "# Revisión de datos duplicados en ambos datasets:\n",
    "print(telecom_df.duplicated().sum())\n",
    "print()\n",
    "print(clients_df.duplicated().sum())"
   ]
  },
  {
   "cell_type": "markdown",
   "metadata": {},
   "source": [
    "En este caso existen 4184 registros enteramente duplicados en el Dataframe telecom_df. Por ende, deben ser eliminados."
   ]
  },
  {
   "cell_type": "code",
   "execution_count": 112,
   "metadata": {},
   "outputs": [],
   "source": [
    "# Eliminación de datos duplicados en telecom_df:\n",
    "telecom_df = telecom_df.drop_duplicates()"
   ]
  },
  {
   "cell_type": "markdown",
   "metadata": {},
   "source": [
    "### **3.4.3 Conversión del tipo de datos:**\n",
    "\n",
    "Como se mencionó anteriormente:\n",
    "- las columnas **`date`** será modificadas a tipo date (para telecom_df).\n",
    "- las columnas **`tariff_plan`, `date_start`** serán modificadas a tipo Category y date respectivamente (para clients_df)."
   ]
  },
  {
   "cell_type": "code",
   "execution_count": 113,
   "metadata": {},
   "outputs": [],
   "source": [
    "# Conversión del tipo de datos en telecom_df:\n",
    "telecom_df['date'] = pd.to_datetime(telecom_df['date'])\n",
    "\n",
    "# Conversión del tipo de datos en clients_df:\n",
    "clients_df['tariff_plan'] = clients_df['tariff_plan'].astype('category')\n",
    "clients_df['date_start'] = pd.to_datetime(clients_df['date_start'])"
   ]
  },
  {
   "cell_type": "code",
   "execution_count": 114,
   "metadata": {},
   "outputs": [
    {
     "name": "stdout",
     "output_type": "stream",
     "text": [
      "<class 'pandas.core.frame.DataFrame'>\n",
      "Index: 41546 entries, 1 to 53899\n",
      "Data columns (total 9 columns):\n",
      " #   Column               Non-Null Count  Dtype                    \n",
      "---  ------               --------------  -----                    \n",
      " 0   user_id              41546 non-null  int64                    \n",
      " 1   date                 41546 non-null  datetime64[ns, UTC+03:00]\n",
      " 2   direction            41546 non-null  object                   \n",
      " 3   internal             41546 non-null  object                   \n",
      " 4   operator_id          41546 non-null  float64                  \n",
      " 5   is_missed_call       41546 non-null  bool                     \n",
      " 6   calls_count          41546 non-null  int64                    \n",
      " 7   call_duration        41546 non-null  int64                    \n",
      " 8   total_call_duration  41546 non-null  int64                    \n",
      "dtypes: bool(1), datetime64[ns, UTC+03:00](1), float64(1), int64(4), object(2)\n",
      "memory usage: 2.9+ MB\n",
      "None\n",
      "\n",
      "<class 'pandas.core.frame.DataFrame'>\n",
      "RangeIndex: 732 entries, 0 to 731\n",
      "Data columns (total 3 columns):\n",
      " #   Column       Non-Null Count  Dtype         \n",
      "---  ------       --------------  -----         \n",
      " 0   user_id      732 non-null    int64         \n",
      " 1   tariff_plan  732 non-null    category      \n",
      " 2   date_start   732 non-null    datetime64[ns]\n",
      "dtypes: category(1), datetime64[ns](1), int64(1)\n",
      "memory usage: 12.4 KB\n",
      "None\n"
     ]
    }
   ],
   "source": [
    "print(telecom_df.info())\n",
    "print()\n",
    "print(clients_df.info())"
   ]
  },
  {
   "cell_type": "markdown",
   "metadata": {},
   "source": [
    "Ya quedaron los datos listos para ser analizados."
   ]
  },
  {
   "cell_type": "markdown",
   "metadata": {},
   "source": [
    "# **4. Análisis Exploratorio de Datos (EDA):**\n",
    "\n",
    "Previo al análisis, podemos proceder a unificar la información a través de un Dataframe usando el método merge. \n",
    "\n",
    "Artículo relacionado: https://medium.com/data-and-beyond/mastering-exploratory-data-analysis-eda-everything-you-need-to-know-7e3b48d63a95"
   ]
  },
  {
   "cell_type": "code",
   "execution_count": 115,
   "metadata": {},
   "outputs": [
    {
     "data": {
      "text/html": [
       "<div>\n",
       "<style scoped>\n",
       "    .dataframe tbody tr th:only-of-type {\n",
       "        vertical-align: middle;\n",
       "    }\n",
       "\n",
       "    .dataframe tbody tr th {\n",
       "        vertical-align: top;\n",
       "    }\n",
       "\n",
       "    .dataframe thead th {\n",
       "        text-align: right;\n",
       "    }\n",
       "</style>\n",
       "<table border=\"1\" class=\"dataframe\">\n",
       "  <thead>\n",
       "    <tr style=\"text-align: right;\">\n",
       "      <th></th>\n",
       "      <th>user_id</th>\n",
       "      <th>date</th>\n",
       "      <th>direction</th>\n",
       "      <th>internal</th>\n",
       "      <th>operator_id</th>\n",
       "      <th>is_missed_call</th>\n",
       "      <th>calls_count</th>\n",
       "      <th>call_duration</th>\n",
       "      <th>total_call_duration</th>\n",
       "      <th>tariff_plan</th>\n",
       "      <th>date_start</th>\n",
       "    </tr>\n",
       "  </thead>\n",
       "  <tbody>\n",
       "    <tr>\n",
       "      <th>6761</th>\n",
       "      <td>166658</td>\n",
       "      <td>2019-09-27 00:00:00+03:00</td>\n",
       "      <td>out</td>\n",
       "      <td>False</td>\n",
       "      <td>890410.0</td>\n",
       "      <td>False</td>\n",
       "      <td>5</td>\n",
       "      <td>788</td>\n",
       "      <td>852</td>\n",
       "      <td>B</td>\n",
       "      <td>2019-08-13</td>\n",
       "    </tr>\n",
       "    <tr>\n",
       "      <th>11782</th>\n",
       "      <td>166901</td>\n",
       "      <td>2019-08-29 00:00:00+03:00</td>\n",
       "      <td>out</td>\n",
       "      <td>True</td>\n",
       "      <td>896008.0</td>\n",
       "      <td>True</td>\n",
       "      <td>2</td>\n",
       "      <td>0</td>\n",
       "      <td>120</td>\n",
       "      <td>A</td>\n",
       "      <td>2019-08-23</td>\n",
       "    </tr>\n",
       "    <tr>\n",
       "      <th>7404</th>\n",
       "      <td>166658</td>\n",
       "      <td>2019-11-06 00:00:00+03:00</td>\n",
       "      <td>out</td>\n",
       "      <td>True</td>\n",
       "      <td>890410.0</td>\n",
       "      <td>False</td>\n",
       "      <td>1</td>\n",
       "      <td>0</td>\n",
       "      <td>0</td>\n",
       "      <td>B</td>\n",
       "      <td>2019-08-13</td>\n",
       "    </tr>\n",
       "    <tr>\n",
       "      <th>40616</th>\n",
       "      <td>168361</td>\n",
       "      <td>2019-11-13 00:00:00+03:00</td>\n",
       "      <td>out</td>\n",
       "      <td>False</td>\n",
       "      <td>945322.0</td>\n",
       "      <td>False</td>\n",
       "      <td>48</td>\n",
       "      <td>2356</td>\n",
       "      <td>3434</td>\n",
       "      <td>A</td>\n",
       "      <td>2019-10-23</td>\n",
       "    </tr>\n",
       "    <tr>\n",
       "      <th>37532</th>\n",
       "      <td>168187</td>\n",
       "      <td>2019-11-14 00:00:00+03:00</td>\n",
       "      <td>in</td>\n",
       "      <td>False</td>\n",
       "      <td>937762.0</td>\n",
       "      <td>False</td>\n",
       "      <td>6</td>\n",
       "      <td>1209</td>\n",
       "      <td>1278</td>\n",
       "      <td>A</td>\n",
       "      <td>2019-10-16</td>\n",
       "    </tr>\n",
       "    <tr>\n",
       "      <th>19083</th>\n",
       "      <td>167125</td>\n",
       "      <td>2019-09-24 00:00:00+03:00</td>\n",
       "      <td>out</td>\n",
       "      <td>False</td>\n",
       "      <td>902776.0</td>\n",
       "      <td>False</td>\n",
       "      <td>19</td>\n",
       "      <td>1794</td>\n",
       "      <td>2212</td>\n",
       "      <td>C</td>\n",
       "      <td>2019-09-03</td>\n",
       "    </tr>\n",
       "    <tr>\n",
       "      <th>16736</th>\n",
       "      <td>167052</td>\n",
       "      <td>2019-10-15 00:00:00+03:00</td>\n",
       "      <td>out</td>\n",
       "      <td>False</td>\n",
       "      <td>904038.0</td>\n",
       "      <td>False</td>\n",
       "      <td>2</td>\n",
       "      <td>455</td>\n",
       "      <td>475</td>\n",
       "      <td>C</td>\n",
       "      <td>2019-08-29</td>\n",
       "    </tr>\n",
       "    <tr>\n",
       "      <th>23973</th>\n",
       "      <td>167445</td>\n",
       "      <td>2019-10-22 00:00:00+03:00</td>\n",
       "      <td>out</td>\n",
       "      <td>False</td>\n",
       "      <td>920706.0</td>\n",
       "      <td>False</td>\n",
       "      <td>2</td>\n",
       "      <td>205</td>\n",
       "      <td>208</td>\n",
       "      <td>B</td>\n",
       "      <td>2019-09-17</td>\n",
       "    </tr>\n",
       "    <tr>\n",
       "      <th>21995</th>\n",
       "      <td>167185</td>\n",
       "      <td>2019-10-30 00:00:00+03:00</td>\n",
       "      <td>in</td>\n",
       "      <td>False</td>\n",
       "      <td>912296.0</td>\n",
       "      <td>False</td>\n",
       "      <td>3</td>\n",
       "      <td>537</td>\n",
       "      <td>568</td>\n",
       "      <td>A</td>\n",
       "      <td>2019-09-05</td>\n",
       "    </tr>\n",
       "    <tr>\n",
       "      <th>9400</th>\n",
       "      <td>166717</td>\n",
       "      <td>2019-10-04 00:00:00+03:00</td>\n",
       "      <td>in</td>\n",
       "      <td>False</td>\n",
       "      <td>891988.0</td>\n",
       "      <td>False</td>\n",
       "      <td>9</td>\n",
       "      <td>1306</td>\n",
       "      <td>1408</td>\n",
       "      <td>C</td>\n",
       "      <td>2019-08-16</td>\n",
       "    </tr>\n",
       "  </tbody>\n",
       "</table>\n",
       "</div>"
      ],
      "text/plain": [
       "       user_id                      date direction internal  operator_id  \\\n",
       "6761    166658 2019-09-27 00:00:00+03:00       out    False     890410.0   \n",
       "11782   166901 2019-08-29 00:00:00+03:00       out     True     896008.0   \n",
       "7404    166658 2019-11-06 00:00:00+03:00       out     True     890410.0   \n",
       "40616   168361 2019-11-13 00:00:00+03:00       out    False     945322.0   \n",
       "37532   168187 2019-11-14 00:00:00+03:00        in    False     937762.0   \n",
       "19083   167125 2019-09-24 00:00:00+03:00       out    False     902776.0   \n",
       "16736   167052 2019-10-15 00:00:00+03:00       out    False     904038.0   \n",
       "23973   167445 2019-10-22 00:00:00+03:00       out    False     920706.0   \n",
       "21995   167185 2019-10-30 00:00:00+03:00        in    False     912296.0   \n",
       "9400    166717 2019-10-04 00:00:00+03:00        in    False     891988.0   \n",
       "\n",
       "       is_missed_call  calls_count  call_duration  total_call_duration  \\\n",
       "6761            False            5            788                  852   \n",
       "11782            True            2              0                  120   \n",
       "7404            False            1              0                    0   \n",
       "40616           False           48           2356                 3434   \n",
       "37532           False            6           1209                 1278   \n",
       "19083           False           19           1794                 2212   \n",
       "16736           False            2            455                  475   \n",
       "23973           False            2            205                  208   \n",
       "21995           False            3            537                  568   \n",
       "9400            False            9           1306                 1408   \n",
       "\n",
       "      tariff_plan date_start  \n",
       "6761            B 2019-08-13  \n",
       "11782           A 2019-08-23  \n",
       "7404            B 2019-08-13  \n",
       "40616           A 2019-10-23  \n",
       "37532           A 2019-10-16  \n",
       "19083           C 2019-09-03  \n",
       "16736           C 2019-08-29  \n",
       "23973           B 2019-09-17  \n",
       "21995           A 2019-09-05  \n",
       "9400            C 2019-08-16  "
      ]
     },
     "metadata": {},
     "output_type": "display_data"
    }
   ],
   "source": [
    "# Creación del DataFrame unificado merged_df:\n",
    "merged_df = telecom_df.merge(clients_df, on='user_id', how='inner')\n",
    "display(merged_df.sample(10))"
   ]
  },
  {
   "cell_type": "code",
   "execution_count": 116,
   "metadata": {},
   "outputs": [],
   "source": [
    "# Agregación de columna 'call_waiting_time' para calcular los tiempos de espera (importante para definir la ineficacia de un operador):\n",
    "merged_df['call_waiting_time'] = merged_df['total_call_duration'] - merged_df['call_duration']"
   ]
  },
  {
   "cell_type": "markdown",
   "metadata": {},
   "source": [
    "## **4.1 Descripción estadística de los datos**\n",
    "Se determinan aquellos registros que agreguen valor a los indicadores previamente definidos. A partir de ahí se definen la distribución estadística de los datos, valores máximos, mínimos, promedios, desviaciones estándar entre otros."
   ]
  },
  {
   "cell_type": "code",
   "execution_count": 117,
   "metadata": {},
   "outputs": [
    {
     "data": {
      "text/html": [
       "<div>\n",
       "<style scoped>\n",
       "    .dataframe tbody tr th:only-of-type {\n",
       "        vertical-align: middle;\n",
       "    }\n",
       "\n",
       "    .dataframe tbody tr th {\n",
       "        vertical-align: top;\n",
       "    }\n",
       "\n",
       "    .dataframe thead th {\n",
       "        text-align: right;\n",
       "    }\n",
       "</style>\n",
       "<table border=\"1\" class=\"dataframe\">\n",
       "  <thead>\n",
       "    <tr style=\"text-align: right;\">\n",
       "      <th></th>\n",
       "      <th>user_id</th>\n",
       "      <th>operator_id</th>\n",
       "      <th>calls_count</th>\n",
       "      <th>call_duration</th>\n",
       "      <th>total_call_duration</th>\n",
       "      <th>date_start</th>\n",
       "      <th>call_waiting_time</th>\n",
       "    </tr>\n",
       "  </thead>\n",
       "  <tbody>\n",
       "    <tr>\n",
       "      <th>count</th>\n",
       "      <td>41546.000000</td>\n",
       "      <td>41546.000000</td>\n",
       "      <td>41546.000000</td>\n",
       "      <td>41546.000000</td>\n",
       "      <td>41546.000000</td>\n",
       "      <td>41546</td>\n",
       "      <td>41546.000000</td>\n",
       "    </tr>\n",
       "    <tr>\n",
       "      <th>mean</th>\n",
       "      <td>167301.311992</td>\n",
       "      <td>916523.315409</td>\n",
       "      <td>16.900424</td>\n",
       "      <td>1009.769172</td>\n",
       "      <td>1321.592813</td>\n",
       "      <td>2019-09-09 07:02:49.315939072</td>\n",
       "      <td>311.823641</td>\n",
       "    </tr>\n",
       "    <tr>\n",
       "      <th>min</th>\n",
       "      <td>166377.000000</td>\n",
       "      <td>879896.000000</td>\n",
       "      <td>1.000000</td>\n",
       "      <td>0.000000</td>\n",
       "      <td>0.000000</td>\n",
       "      <td>2019-08-01 00:00:00</td>\n",
       "      <td>0.000000</td>\n",
       "    </tr>\n",
       "    <tr>\n",
       "      <th>25%</th>\n",
       "      <td>166782.000000</td>\n",
       "      <td>900790.500000</td>\n",
       "      <td>1.000000</td>\n",
       "      <td>0.000000</td>\n",
       "      <td>67.000000</td>\n",
       "      <td>2019-08-19 00:00:00</td>\n",
       "      <td>19.000000</td>\n",
       "    </tr>\n",
       "    <tr>\n",
       "      <th>50%</th>\n",
       "      <td>167175.000000</td>\n",
       "      <td>913938.000000</td>\n",
       "      <td>4.000000</td>\n",
       "      <td>106.000000</td>\n",
       "      <td>288.000000</td>\n",
       "      <td>2019-09-05 00:00:00</td>\n",
       "      <td>60.000000</td>\n",
       "    </tr>\n",
       "    <tr>\n",
       "      <th>75%</th>\n",
       "      <td>167827.000000</td>\n",
       "      <td>937708.000000</td>\n",
       "      <td>13.000000</td>\n",
       "      <td>770.000000</td>\n",
       "      <td>1104.000000</td>\n",
       "      <td>2019-10-02 00:00:00</td>\n",
       "      <td>219.000000</td>\n",
       "    </tr>\n",
       "    <tr>\n",
       "      <th>max</th>\n",
       "      <td>168606.000000</td>\n",
       "      <td>973286.000000</td>\n",
       "      <td>4817.000000</td>\n",
       "      <td>144395.000000</td>\n",
       "      <td>166155.000000</td>\n",
       "      <td>2019-10-31 00:00:00</td>\n",
       "      <td>46474.000000</td>\n",
       "    </tr>\n",
       "    <tr>\n",
       "      <th>std</th>\n",
       "      <td>600.418838</td>\n",
       "      <td>21230.041008</td>\n",
       "      <td>59.749373</td>\n",
       "      <td>4064.106117</td>\n",
       "      <td>4785.978633</td>\n",
       "      <td>NaN</td>\n",
       "      <td>1175.373073</td>\n",
       "    </tr>\n",
       "  </tbody>\n",
       "</table>\n",
       "</div>"
      ],
      "text/plain": [
       "             user_id    operator_id   calls_count  call_duration  \\\n",
       "count   41546.000000   41546.000000  41546.000000   41546.000000   \n",
       "mean   167301.311992  916523.315409     16.900424    1009.769172   \n",
       "min    166377.000000  879896.000000      1.000000       0.000000   \n",
       "25%    166782.000000  900790.500000      1.000000       0.000000   \n",
       "50%    167175.000000  913938.000000      4.000000     106.000000   \n",
       "75%    167827.000000  937708.000000     13.000000     770.000000   \n",
       "max    168606.000000  973286.000000   4817.000000  144395.000000   \n",
       "std       600.418838   21230.041008     59.749373    4064.106117   \n",
       "\n",
       "       total_call_duration                     date_start  call_waiting_time  \n",
       "count         41546.000000                          41546       41546.000000  \n",
       "mean           1321.592813  2019-09-09 07:02:49.315939072         311.823641  \n",
       "min               0.000000            2019-08-01 00:00:00           0.000000  \n",
       "25%              67.000000            2019-08-19 00:00:00          19.000000  \n",
       "50%             288.000000            2019-09-05 00:00:00          60.000000  \n",
       "75%            1104.000000            2019-10-02 00:00:00         219.000000  \n",
       "max          166155.000000            2019-10-31 00:00:00       46474.000000  \n",
       "std            4785.978633                            NaN        1175.373073  "
      ]
     },
     "execution_count": 117,
     "metadata": {},
     "output_type": "execute_result"
    }
   ],
   "source": [
    "# Revisión estadística de la distribución de los datos:\n",
    "merged_df.describe()"
   ]
  },
  {
   "cell_type": "markdown",
   "metadata": {},
   "source": [
    "Algunos de los datos relevantes son:\n",
    "1. Las fechas de registros de la clientela van desde el 01-Agosto-2019 al 31-Octubre-2019.\n",
    "2. El número promedio de llamadas de los operadores es de 16.9.\n",
    "3. El tiempo promedio de espera de llamadas es de 311.82 segundos."
   ]
  },
  {
   "cell_type": "markdown",
   "metadata": {},
   "source": [
    "## **4.2 Visualización de distribuciones de las métricas clave (llamadas perdidas, tiempos de espera, llamadas salientes)**\n"
   ]
  },
  {
   "cell_type": "markdown",
   "metadata": {},
   "source": [
    "A partir de aquí, el propósito es facilitar el panorama a partir de gráficos y visualizaciones claves que ayuden a determinar el estado actual de la problemática en cuestión."
   ]
  },
  {
   "cell_type": "code",
   "execution_count": 118,
   "metadata": {},
   "outputs": [
    {
     "data": {
      "text/html": [
       "<div>\n",
       "<style scoped>\n",
       "    .dataframe tbody tr th:only-of-type {\n",
       "        vertical-align: middle;\n",
       "    }\n",
       "\n",
       "    .dataframe tbody tr th {\n",
       "        vertical-align: top;\n",
       "    }\n",
       "\n",
       "    .dataframe thead th {\n",
       "        text-align: right;\n",
       "    }\n",
       "</style>\n",
       "<table border=\"1\" class=\"dataframe\">\n",
       "  <thead>\n",
       "    <tr style=\"text-align: right;\">\n",
       "      <th></th>\n",
       "      <th>is_missed_call</th>\n",
       "      <th>count</th>\n",
       "    </tr>\n",
       "  </thead>\n",
       "  <tbody>\n",
       "    <tr>\n",
       "      <th>0</th>\n",
       "      <td>False</td>\n",
       "      <td>27436</td>\n",
       "    </tr>\n",
       "    <tr>\n",
       "      <th>1</th>\n",
       "      <td>True</td>\n",
       "      <td>14110</td>\n",
       "    </tr>\n",
       "  </tbody>\n",
       "</table>\n",
       "</div>"
      ],
      "text/plain": [
       "   is_missed_call  count\n",
       "0           False  27436\n",
       "1            True  14110"
      ]
     },
     "metadata": {},
     "output_type": "display_data"
    },
    {
     "data": {
      "image/png": "[encoded data removed]",
      "text/plain": [
       "<Figure size 1200x600 with 1 Axes>"
      ]
     },
     "metadata": {},
     "output_type": "display_data"
    }
   ],
   "source": [
    "# Distribución de las llamadas perdidas:\n",
    "\n",
    "display(merged_df['is_missed_call'].value_counts().reset_index())\n",
    "\n",
    "plt.figure(figsize=(12, 6))\n",
    "merged_df['is_missed_call'].value_counts().sort_values(ascending=True).plot(kind='barh')\n",
    "plt.title('Distribución de llamadas perdidas realizadas por operadores')\n",
    "plt.xlabel('Cantidad de llamadas')\n",
    "plt.ylabel('¿Es una llamada perdida?')\n",
    "plt.show()"
   ]
  },
  {
   "cell_type": "markdown",
   "metadata": {},
   "source": [
    "La gran mayoría de llamadas NO fueron llamadas perdidas. Sin embargo aproximadamente un 34% de las llamadas son perdidas, sigue siendo una proporción alta (1 de cada 3 llamadas es una llamada perdida)."
   ]
  },
  {
   "cell_type": "code",
   "execution_count": 119,
   "metadata": {},
   "outputs": [
    {
     "data": {
      "text/plain": [
       "count    41546.000000\n",
       "mean       311.823641\n",
       "std       1175.373073\n",
       "min          0.000000\n",
       "25%         19.000000\n",
       "50%         60.000000\n",
       "75%        219.000000\n",
       "max      46474.000000\n",
       "Name: call_waiting_time, dtype: float64"
      ]
     },
     "metadata": {},
     "output_type": "display_data"
    },
    {
     "data": {
      "text/plain": [
       "0.90     658.00\n",
       "0.95    1233.75\n",
       "0.99    3488.70\n",
       "Name: call_waiting_time, dtype: float64"
      ]
     },
     "metadata": {},
     "output_type": "display_data"
    },
    {
     "data": {
      "image/png": "[encoded data removed]",
      "text/plain": [
       "<Figure size 1200x600 with 1 Axes>"
      ]
     },
     "metadata": {},
     "output_type": "display_data"
    }
   ],
   "source": [
    "# Histograma de los tiempos de espera: \n",
    "\n",
    "display(merged_df['call_waiting_time'].describe())\n",
    "display(merged_df['call_waiting_time'].quantile([0.9, 0.95, 0.99]))\n",
    "\n",
    "plt.figure(figsize=(12, 6))\n",
    "sns.histplot(data= merged_df['call_waiting_time'], kde=True, bins=30, color='blue')\n",
    "plt.title('Histograma de distribución de los tiempos de espera en llamadas')\n",
    "plt.xlabel('Tiempos de espera (segundos)')\n",
    "plt.ylabel('Frecuencia')\n",
    "plt.show()"
   ]
  },
  {
   "cell_type": "markdown",
   "metadata": {},
   "source": [
    "El 90% de los tiempos de espera son menores a 658 segundos (casi 11 minutos), en promedio el tiempo de espera es de 311.82 segundos (poco menos de 5 minutos)."
   ]
  },
  {
   "cell_type": "code",
   "execution_count": 120,
   "metadata": {},
   "outputs": [
    {
     "data": {
      "text/html": [
       "<div>\n",
       "<style scoped>\n",
       "    .dataframe tbody tr th:only-of-type {\n",
       "        vertical-align: middle;\n",
       "    }\n",
       "\n",
       "    .dataframe tbody tr th {\n",
       "        vertical-align: top;\n",
       "    }\n",
       "\n",
       "    .dataframe thead th {\n",
       "        text-align: right;\n",
       "    }\n",
       "</style>\n",
       "<table border=\"1\" class=\"dataframe\">\n",
       "  <thead>\n",
       "    <tr style=\"text-align: right;\">\n",
       "      <th></th>\n",
       "      <th>direction</th>\n",
       "      <th>count</th>\n",
       "    </tr>\n",
       "  </thead>\n",
       "  <tbody>\n",
       "    <tr>\n",
       "      <th>0</th>\n",
       "      <td>out</td>\n",
       "      <td>28813</td>\n",
       "    </tr>\n",
       "    <tr>\n",
       "      <th>1</th>\n",
       "      <td>in</td>\n",
       "      <td>12733</td>\n",
       "    </tr>\n",
       "  </tbody>\n",
       "</table>\n",
       "</div>"
      ],
      "text/plain": [
       "  direction  count\n",
       "0       out  28813\n",
       "1        in  12733"
      ]
     },
     "metadata": {},
     "output_type": "display_data"
    },
    {
     "data": {
      "image/png": "[encoded data removed]",
      "text/plain": [
       "<Figure size 1200x600 with 1 Axes>"
      ]
     },
     "metadata": {},
     "output_type": "display_data"
    }
   ],
   "source": [
    "# Distribución de las llamadas salientes/entrantes:\n",
    "\n",
    "display(merged_df['direction'].value_counts().reset_index())\n",
    "\n",
    "plt.figure(figsize=(12, 6))\n",
    "merged_df['direction'].value_counts().sort_values(ascending=True).plot(kind='barh')\n",
    "plt.title('Distribución de llamadas salientes/entrantes')\n",
    "plt.xlabel('Cantidad de llamadas')\n",
    "plt.ylabel('¿Saliente (out) o entrante (in)?')\n",
    "plt.show()"
   ]
  },
  {
   "cell_type": "markdown",
   "metadata": {},
   "source": [
    "La gran mayoría de llamadas fueron salientes. Sin embargo aproximadamente un 30% de las llamadas son entrantes."
   ]
  },
  {
   "cell_type": "markdown",
   "metadata": {},
   "source": [
    "## **4.3 Identificación de correlaciones y patrones**"
   ]
  },
  {
   "cell_type": "markdown",
   "metadata": {},
   "source": [
    "Identficar si existen patrones y correlaciones es clave para definir si existen comportamientos, labores, o patrones ineficientes dentro del proceso."
   ]
  },
  {
   "cell_type": "code",
   "execution_count": 121,
   "metadata": {},
   "outputs": [],
   "source": [
    "# Inicialmente necesitaríamos asignar valores a los parámetros que actualmente son descriptivos y no numéricos:\n",
    "merged_df['reasigned_is_missed_call'] = merged_df.apply(lambda row: 0 if row['is_missed_call'] == False else 1, axis=1) #---> Valor de 0 para llamadas exitosas, 1 para llamadas perdidas.\n",
    "merged_df['reasigned_direction'] = merged_df.apply(lambda row: 0 if row['direction'] == 'out' else 1, axis=1) #---> Valor de 0 para llamadas salientes, 1 para llamadas entrantes."
   ]
  },
  {
   "cell_type": "code",
   "execution_count": 123,
   "metadata": {},
   "outputs": [
    {
     "data": {
      "text/html": [
       "<div>\n",
       "<style scoped>\n",
       "    .dataframe tbody tr th:only-of-type {\n",
       "        vertical-align: middle;\n",
       "    }\n",
       "\n",
       "    .dataframe tbody tr th {\n",
       "        vertical-align: top;\n",
       "    }\n",
       "\n",
       "    .dataframe thead th {\n",
       "        text-align: right;\n",
       "    }\n",
       "</style>\n",
       "<table border=\"1\" class=\"dataframe\">\n",
       "  <thead>\n",
       "    <tr style=\"text-align: right;\">\n",
       "      <th></th>\n",
       "      <th>user_id</th>\n",
       "      <th>date</th>\n",
       "      <th>direction</th>\n",
       "      <th>internal</th>\n",
       "      <th>operator_id</th>\n",
       "      <th>is_missed_call</th>\n",
       "      <th>calls_count</th>\n",
       "      <th>call_duration</th>\n",
       "      <th>total_call_duration</th>\n",
       "      <th>tariff_plan</th>\n",
       "      <th>date_start</th>\n",
       "      <th>call_waiting_time</th>\n",
       "      <th>reasigned_is_missed_call</th>\n",
       "      <th>reasigned_direction</th>\n",
       "    </tr>\n",
       "  </thead>\n",
       "  <tbody>\n",
       "    <tr>\n",
       "      <th>13345</th>\n",
       "      <td>166939</td>\n",
       "      <td>2019-11-28 00:00:00+03:00</td>\n",
       "      <td>out</td>\n",
       "      <td>True</td>\n",
       "      <td>955090.0</td>\n",
       "      <td>False</td>\n",
       "      <td>2</td>\n",
       "      <td>50</td>\n",
       "      <td>66</td>\n",
       "      <td>C</td>\n",
       "      <td>2019-08-26</td>\n",
       "      <td>16</td>\n",
       "      <td>0</td>\n",
       "      <td>0</td>\n",
       "    </tr>\n",
       "    <tr>\n",
       "      <th>13218</th>\n",
       "      <td>166916</td>\n",
       "      <td>2019-11-28 00:00:00+03:00</td>\n",
       "      <td>out</td>\n",
       "      <td>False</td>\n",
       "      <td>906412.0</td>\n",
       "      <td>False</td>\n",
       "      <td>1</td>\n",
       "      <td>55</td>\n",
       "      <td>68</td>\n",
       "      <td>A</td>\n",
       "      <td>2019-08-23</td>\n",
       "      <td>13</td>\n",
       "      <td>0</td>\n",
       "      <td>0</td>\n",
       "    </tr>\n",
       "    <tr>\n",
       "      <th>5831</th>\n",
       "      <td>166604</td>\n",
       "      <td>2019-11-14 00:00:00+03:00</td>\n",
       "      <td>in</td>\n",
       "      <td>False</td>\n",
       "      <td>893420.0</td>\n",
       "      <td>False</td>\n",
       "      <td>5</td>\n",
       "      <td>335</td>\n",
       "      <td>418</td>\n",
       "      <td>C</td>\n",
       "      <td>2019-08-12</td>\n",
       "      <td>83</td>\n",
       "      <td>0</td>\n",
       "      <td>1</td>\n",
       "    </tr>\n",
       "    <tr>\n",
       "      <th>15261</th>\n",
       "      <td>166997</td>\n",
       "      <td>2019-09-24 00:00:00+03:00</td>\n",
       "      <td>out</td>\n",
       "      <td>False</td>\n",
       "      <td>905430.0</td>\n",
       "      <td>False</td>\n",
       "      <td>20</td>\n",
       "      <td>2924</td>\n",
       "      <td>3276</td>\n",
       "      <td>C</td>\n",
       "      <td>2019-08-28</td>\n",
       "      <td>352</td>\n",
       "      <td>0</td>\n",
       "      <td>0</td>\n",
       "    </tr>\n",
       "    <tr>\n",
       "      <th>8803</th>\n",
       "      <td>166691</td>\n",
       "      <td>2019-09-10 00:00:00+03:00</td>\n",
       "      <td>out</td>\n",
       "      <td>False</td>\n",
       "      <td>889410.0</td>\n",
       "      <td>True</td>\n",
       "      <td>4</td>\n",
       "      <td>0</td>\n",
       "      <td>104</td>\n",
       "      <td>C</td>\n",
       "      <td>2019-08-15</td>\n",
       "      <td>104</td>\n",
       "      <td>1</td>\n",
       "      <td>0</td>\n",
       "    </tr>\n",
       "    <tr>\n",
       "      <th>33034</th>\n",
       "      <td>167977</td>\n",
       "      <td>2019-11-20 00:00:00+03:00</td>\n",
       "      <td>out</td>\n",
       "      <td>False</td>\n",
       "      <td>944226.0</td>\n",
       "      <td>True</td>\n",
       "      <td>1</td>\n",
       "      <td>0</td>\n",
       "      <td>28</td>\n",
       "      <td>B</td>\n",
       "      <td>2019-10-08</td>\n",
       "      <td>28</td>\n",
       "      <td>1</td>\n",
       "      <td>0</td>\n",
       "    </tr>\n",
       "    <tr>\n",
       "      <th>4053</th>\n",
       "      <td>166511</td>\n",
       "      <td>2019-11-27 00:00:00+03:00</td>\n",
       "      <td>out</td>\n",
       "      <td>False</td>\n",
       "      <td>891410.0</td>\n",
       "      <td>False</td>\n",
       "      <td>34</td>\n",
       "      <td>6063</td>\n",
       "      <td>6392</td>\n",
       "      <td>C</td>\n",
       "      <td>2019-08-06</td>\n",
       "      <td>329</td>\n",
       "      <td>0</td>\n",
       "      <td>0</td>\n",
       "    </tr>\n",
       "    <tr>\n",
       "      <th>9564</th>\n",
       "      <td>166725</td>\n",
       "      <td>2019-10-03 00:00:00+03:00</td>\n",
       "      <td>out</td>\n",
       "      <td>False</td>\n",
       "      <td>889754.0</td>\n",
       "      <td>False</td>\n",
       "      <td>11</td>\n",
       "      <td>1425</td>\n",
       "      <td>1536</td>\n",
       "      <td>A</td>\n",
       "      <td>2019-08-16</td>\n",
       "      <td>111</td>\n",
       "      <td>0</td>\n",
       "      <td>0</td>\n",
       "    </tr>\n",
       "    <tr>\n",
       "      <th>27181</th>\n",
       "      <td>167532</td>\n",
       "      <td>2019-10-22 00:00:00+03:00</td>\n",
       "      <td>in</td>\n",
       "      <td>False</td>\n",
       "      <td>917852.0</td>\n",
       "      <td>False</td>\n",
       "      <td>9</td>\n",
       "      <td>575</td>\n",
       "      <td>772</td>\n",
       "      <td>C</td>\n",
       "      <td>2019-09-19</td>\n",
       "      <td>197</td>\n",
       "      <td>0</td>\n",
       "      <td>1</td>\n",
       "    </tr>\n",
       "    <tr>\n",
       "      <th>23145</th>\n",
       "      <td>167359</td>\n",
       "      <td>2019-09-20 00:00:00+03:00</td>\n",
       "      <td>in</td>\n",
       "      <td>False</td>\n",
       "      <td>912722.0</td>\n",
       "      <td>False</td>\n",
       "      <td>6</td>\n",
       "      <td>1253</td>\n",
       "      <td>1288</td>\n",
       "      <td>B</td>\n",
       "      <td>2019-09-13</td>\n",
       "      <td>35</td>\n",
       "      <td>0</td>\n",
       "      <td>1</td>\n",
       "    </tr>\n",
       "  </tbody>\n",
       "</table>\n",
       "</div>"
      ],
      "text/plain": [
       "       user_id                      date direction internal  operator_id  \\\n",
       "13345   166939 2019-11-28 00:00:00+03:00       out     True     955090.0   \n",
       "13218   166916 2019-11-28 00:00:00+03:00       out    False     906412.0   \n",
       "5831    166604 2019-11-14 00:00:00+03:00        in    False     893420.0   \n",
       "15261   166997 2019-09-24 00:00:00+03:00       out    False     905430.0   \n",
       "8803    166691 2019-09-10 00:00:00+03:00       out    False     889410.0   \n",
       "33034   167977 2019-11-20 00:00:00+03:00       out    False     944226.0   \n",
       "4053    166511 2019-11-27 00:00:00+03:00       out    False     891410.0   \n",
       "9564    166725 2019-10-03 00:00:00+03:00       out    False     889754.0   \n",
       "27181   167532 2019-10-22 00:00:00+03:00        in    False     917852.0   \n",
       "23145   167359 2019-09-20 00:00:00+03:00        in    False     912722.0   \n",
       "\n",
       "       is_missed_call  calls_count  call_duration  total_call_duration  \\\n",
       "13345           False            2             50                   66   \n",
       "13218           False            1             55                   68   \n",
       "5831            False            5            335                  418   \n",
       "15261           False           20           2924                 3276   \n",
       "8803             True            4              0                  104   \n",
       "33034            True            1              0                   28   \n",
       "4053            False           34           6063                 6392   \n",
       "9564            False           11           1425                 1536   \n",
       "27181           False            9            575                  772   \n",
       "23145           False            6           1253                 1288   \n",
       "\n",
       "      tariff_plan date_start  call_waiting_time  reasigned_is_missed_call  \\\n",
       "13345           C 2019-08-26                 16                         0   \n",
       "13218           A 2019-08-23                 13                         0   \n",
       "5831            C 2019-08-12                 83                         0   \n",
       "15261           C 2019-08-28                352                         0   \n",
       "8803            C 2019-08-15                104                         1   \n",
       "33034           B 2019-10-08                 28                         1   \n",
       "4053            C 2019-08-06                329                         0   \n",
       "9564            A 2019-08-16                111                         0   \n",
       "27181           C 2019-09-19                197                         0   \n",
       "23145           B 2019-09-13                 35                         0   \n",
       "\n",
       "       reasigned_direction  \n",
       "13345                    0  \n",
       "13218                    0  \n",
       "5831                     1  \n",
       "15261                    0  \n",
       "8803                     0  \n",
       "33034                    0  \n",
       "4053                     0  \n",
       "9564                     0  \n",
       "27181                    1  \n",
       "23145                    1  "
      ]
     },
     "execution_count": 123,
     "metadata": {},
     "output_type": "execute_result"
    }
   ],
   "source": [
    "merged_df.sample(10)"
   ]
  },
  {
   "cell_type": "code",
   "execution_count": 124,
   "metadata": {},
   "outputs": [],
   "source": [
    "# Ahora determinamos una matriz de correlación entre la dirección de llamadas, llamadas perdidas, tiempos de espera y cantidad de llamadas:\n",
    "correlation_matrix = merged_df[['reasigned_is_missed_call', 'reasigned_direction', 'call_waiting_time', 'calls_count']].corr()"
   ]
  },
  {
   "cell_type": "code",
   "execution_count": 125,
   "metadata": {},
   "outputs": [
    {
     "data": {
      "image/png": "[encoded data removed]",
      "text/plain": [
       "<Figure size 1000x800 with 2 Axes>"
      ]
     },
     "metadata": {},
     "output_type": "display_data"
    }
   ],
   "source": [
    "# Generación del Heatmap de correlaciones:\n",
    "plt.figure(figsize=(10, 8))\n",
    "sns.heatmap(correlation_matrix, annot=True, fmt=\".2f\", cmap='coolwarm', linewidths=0.5, center=0)\n",
    "plt.title('Matriz de correlación entre la dirección de llamadas, llamadas perdidas, tiempos de espera y cantidad de llamadas')\n",
    "plt.show()"
   ]
  },
  {
   "cell_type": "markdown",
   "metadata": {},
   "source": [
    "Como podemos ver, existe una fuerte correlación positiva entre el número de llamadas realizadas y los tiempos de espera. Sin embargo, podemos realizar diversas pruebas de correlación para poder obtener un mejor análisis de los resultados tomando como [referencia la información de realpython.com](https://realpython.com/numpy-scipy-pandas-correlation-python/):\n",
    "\n",
    "1. **Correlación de Pearson:**\n",
    "- Uso: Es la más común y se utiliza para medir la relación lineal entre dos variables continuas.\n",
    "- Rango: El coeficiente de correlación de Pearson varía entre -1 (correlación negativa perfecta) y 1 (correlación positiva perfecta). Un valor de 0 indica que no hay correlación lineal.\n",
    "\n",
    "2. **Correlación de Spearman:**\n",
    "Uso: Es una medida no paramétrica de la correlación que evalúa la relación monotónica entre dos variables continuas o ordinales. Se utiliza cuando las relaciones no son necesariamente lineales.\n",
    "Rango: Similar a Pearson, varía entre -1 y 1.\n",
    "\n",
    "3. **Correlación de Kendall Tau:**\n",
    "- Uso: Es otra prueba no paramétrica que mide la asociación entre dos variables ordinales o continuas. Es menos sensible a errores en los datos y es adecuada para pequeñas muestras.\n",
    "- Rango: Varía entre -1 y 1\n",
    "\n",
    "4. **Correlación Biserial (Puntual Biserial):**\n",
    "Uso: Se utiliza cuando una variable es continua y la otra es dicotómica (binaria).\n",
    "Rango: Similar a Pearson, va de -1 a 1."
   ]
  },
  {
   "cell_type": "code",
   "execution_count": 135,
   "metadata": {},
   "outputs": [
    {
     "name": "stdout",
     "output_type": "stream",
     "text": [
      "Correlación de Pearson: -0.40121639898908984\n",
      "Correlación de Spearman: -0.4012163989890982\n",
      "Correlación de KendallTau: -0.40121639898909817\n",
      "Correlación Biserial: -0.40121639898908984\n"
     ]
    }
   ],
   "source": [
    "# Análisis de correlaciones entre reasigned_is_missed_call y reasigned_direction:\n",
    "pearson_corr1, _ = pearsonr(merged_df['reasigned_is_missed_call'], merged_df['reasigned_direction'])\n",
    "spearman_corr1, _ = spearmanr(merged_df['reasigned_is_missed_call'], merged_df['reasigned_direction'])\n",
    "kendalltau_corr1, _ = kendalltau(merged_df['reasigned_is_missed_call'], merged_df['reasigned_direction'])\n",
    "biserial_corr1, _ = pointbiserialr(merged_df['reasigned_is_missed_call'], merged_df['reasigned_direction'])\n",
    "\n",
    "print(f\"Correlación de Pearson: {pearson_corr1}\")\n",
    "print(f\"Correlación de Spearman: {spearman_corr1}\")\n",
    "print(f\"Correlación de KendallTau: {kendalltau_corr1}\")\n",
    "print(f\"Correlación Biserial: {biserial_corr1}\")"
   ]
  },
  {
   "cell_type": "code",
   "execution_count": 138,
   "metadata": {},
   "outputs": [
    {
     "name": "stdout",
     "output_type": "stream",
     "text": [
      "Correlación de Pearson: 0.08152226640252741\n",
      "Correlación de Spearman: 0.06792393510767669\n",
      "Correlación de KendallTau: 0.05561322301258511\n",
      "Correlación Biserial: 0.08152226640252741\n"
     ]
    }
   ],
   "source": [
    "# Análisis de correlaciones entre reasigned_is_missed_call y call_waiting_time:\n",
    "pearson_corr2, _ = pearsonr(merged_df['reasigned_is_missed_call'], merged_df['call_waiting_time'])\n",
    "spearman_corr2, _ = spearmanr(merged_df['reasigned_is_missed_call'], merged_df['call_waiting_time'])\n",
    "kendalltau_corr2, _ = kendalltau(merged_df['reasigned_is_missed_call'], merged_df['call_waiting_time'])\n",
    "biserial_corr2, _ = pointbiserialr(merged_df['reasigned_is_missed_call'], merged_df['call_waiting_time'])\n",
    "\n",
    "print(f\"Correlación de Pearson: {pearson_corr2}\")\n",
    "print(f\"Correlación de Spearman: {spearman_corr2}\")\n",
    "print(f\"Correlación de KendallTau: {kendalltau_corr2}\")\n",
    "print(f\"Correlación Biserial: {biserial_corr2}\")"
   ]
  },
  {
   "cell_type": "code",
   "execution_count": 139,
   "metadata": {},
   "outputs": [
    {
     "name": "stdout",
     "output_type": "stream",
     "text": [
      "Correlación de Pearson: 0.8646038333317404\n",
      "Correlación de Spearman: 0.8881082178836078\n",
      "Correlación de KendallTau: 0.7408856822968675\n",
      "Correlación Biserial: 0.8646038333317404\n"
     ]
    }
   ],
   "source": [
    "# Análisis de correlaciones entre calls_count y call_waiting_time:\n",
    "pearson_corr3, _ = pearsonr(merged_df['calls_count'], merged_df['call_waiting_time'])\n",
    "spearman_corr3, _ = spearmanr(merged_df['calls_count'], merged_df['call_waiting_time'])\n",
    "kendalltau_corr3, _ = kendalltau(merged_df['calls_count'], merged_df['call_waiting_time'])\n",
    "biserial_corr3, _ = pointbiserialr(merged_df['calls_count'], merged_df['call_waiting_time'])\n",
    "\n",
    "print(f\"Correlación de Pearson: {pearson_corr3}\")\n",
    "print(f\"Correlación de Spearman: {spearman_corr3}\")\n",
    "print(f\"Correlación de KendallTau: {kendalltau_corr3}\")\n",
    "print(f\"Correlación Biserial: {biserial_corr3}\")"
   ]
  },
  {
   "cell_type": "markdown",
   "metadata": {},
   "source": [
    "**Conclusiones Generales de las pruebas de correlación:**\n",
    "1. Primera Prueba: Indica una relación inversa moderada entre las llamadas perdidas y la dirección de las llamadas. Es posible que estas variables tengan un impacto significativo en la identificación de ineficiencia.\n",
    "2. Segunda Prueba: No muestra una relación significativa entre las variables, sugiriendo que podrían no estar directamente relacionadas en el contexto de ineficiencia operativa.\n",
    "3. Tercera Prueba: Muestra una fuerte relación positiva, lo que sugiere que las variables están estrechamente vinculadas y podrían ser críticas para identificar o comprender la eficacia de los operadores."
   ]
  },
  {
   "cell_type": "markdown",
   "metadata": {},
   "source": [
    "# **5. Definición de Umbrales de Ineficacia:**\n"
   ]
  },
  {
   "cell_type": "markdown",
   "metadata": {},
   "source": [
    "## **Definir umbrales de ineficacia para cada métrica según lo descrito anteriormente.**\n",
    "\n",
    "Un operador es ineficaz sí:\n",
    "- Tiene un alto número de llamadas perdidas ('reasigned_is_miss_call' = 1).\n",
    "- Tiene un alto tiempo de espera ('call_waiting_time') superior a la media mas una desviación estándar.\n",
    "- Realiza pocas llamadas ('direction' = out)"
   ]
  },
  {
   "cell_type": "code",
   "execution_count": 155,
   "metadata": {},
   "outputs": [
    {
     "data": {
      "text/html": [
       "<div>\n",
       "<style scoped>\n",
       "    .dataframe tbody tr th:only-of-type {\n",
       "        vertical-align: middle;\n",
       "    }\n",
       "\n",
       "    .dataframe tbody tr th {\n",
       "        vertical-align: top;\n",
       "    }\n",
       "\n",
       "    .dataframe thead th {\n",
       "        text-align: right;\n",
       "    }\n",
       "</style>\n",
       "<table border=\"1\" class=\"dataframe\">\n",
       "  <thead>\n",
       "    <tr style=\"text-align: right;\">\n",
       "      <th></th>\n",
       "      <th>operator_id</th>\n",
       "      <th>missed_calls_count</th>\n",
       "    </tr>\n",
       "  </thead>\n",
       "  <tbody>\n",
       "    <tr>\n",
       "      <th>25</th>\n",
       "      <td>885890.0</td>\n",
       "      <td>23807</td>\n",
       "    </tr>\n",
       "    <tr>\n",
       "      <th>24</th>\n",
       "      <td>885876.0</td>\n",
       "      <td>23330</td>\n",
       "    </tr>\n",
       "    <tr>\n",
       "      <th>474</th>\n",
       "      <td>929428.0</td>\n",
       "      <td>19118</td>\n",
       "    </tr>\n",
       "    <tr>\n",
       "      <th>452</th>\n",
       "      <td>925922.0</td>\n",
       "      <td>9258</td>\n",
       "    </tr>\n",
       "    <tr>\n",
       "      <th>258</th>\n",
       "      <td>908640.0</td>\n",
       "      <td>8164</td>\n",
       "    </tr>\n",
       "    <tr>\n",
       "      <th>473</th>\n",
       "      <td>929426.0</td>\n",
       "      <td>6347</td>\n",
       "    </tr>\n",
       "    <tr>\n",
       "      <th>690</th>\n",
       "      <td>945286.0</td>\n",
       "      <td>3626</td>\n",
       "    </tr>\n",
       "    <tr>\n",
       "      <th>696</th>\n",
       "      <td>945302.0</td>\n",
       "      <td>3184</td>\n",
       "    </tr>\n",
       "    <tr>\n",
       "      <th>365</th>\n",
       "      <td>919364.0</td>\n",
       "      <td>2688</td>\n",
       "    </tr>\n",
       "    <tr>\n",
       "      <th>1</th>\n",
       "      <td>879898.0</td>\n",
       "      <td>2360</td>\n",
       "    </tr>\n",
       "  </tbody>\n",
       "</table>\n",
       "</div>"
      ],
      "text/plain": [
       "     operator_id  missed_calls_count\n",
       "25      885890.0               23807\n",
       "24      885876.0               23330\n",
       "474     929428.0               19118\n",
       "452     925922.0                9258\n",
       "258     908640.0                8164\n",
       "473     929426.0                6347\n",
       "690     945286.0                3626\n",
       "696     945302.0                3184\n",
       "365     919364.0                2688\n",
       "1       879898.0                2360"
      ]
     },
     "metadata": {},
     "output_type": "display_data"
    },
    {
     "data": {
      "text/plain": [
       "count      876.000000\n",
       "mean       310.866438\n",
       "std       1418.353995\n",
       "min          1.000000\n",
       "25%          6.000000\n",
       "50%         34.000000\n",
       "75%        229.000000\n",
       "max      23807.000000\n",
       "Name: missed_calls_count, dtype: float64"
      ]
     },
     "metadata": {},
     "output_type": "display_data"
    },
    {
     "data": {
      "image/png": "[encoded data removed]",
      "text/plain": [
       "<Figure size 1200x600 with 1 Axes>"
      ]
     },
     "metadata": {},
     "output_type": "display_data"
    }
   ],
   "source": [
    "# Inicialmente usaremos los datos filtrados por aquellos operadores con llamadas perdidas:\n",
    "missed_calls = merged_df[merged_df['reasigned_is_missed_call']==1]\n",
    "\n",
    "# Ahora veremos el Top de usuarios con mayor número de llamadas perdidas:\n",
    "top_missed_calls_operators = missed_calls.groupby('operator_id')['calls_count'].sum().reset_index()\n",
    "top_missed_calls_operators = top_missed_calls_operators.sort_values(by='calls_count', ascending=False)\n",
    "top_missed_calls_operators.columns = ['operator_id', 'missed_calls_count']\n",
    "display(top_missed_calls_operators.head(10))\n",
    "display(top_missed_calls_operators['missed_calls_count'].describe())\n",
    "\n",
    "# Representación gráfica de la distribución del número de llamadas perdidas:\n",
    "plt.figure(figsize=(12, 6))\n",
    "sns.histplot(data=top_missed_calls_operators['missed_calls_count'], kde=True, bins=30, color='blue')\n",
    "plt.title('Histograma de distribución de las llamadas perdidas')\n",
    "plt.xlabel('Número de llamadas perdidas')\n",
    "plt.ylabel('Frecuencia')\n",
    "plt.show()"
   ]
  },
  {
   "cell_type": "code",
   "execution_count": 158,
   "metadata": {},
   "outputs": [
    {
     "data": {
      "text/html": [
       "<div>\n",
       "<style scoped>\n",
       "    .dataframe tbody tr th:only-of-type {\n",
       "        vertical-align: middle;\n",
       "    }\n",
       "\n",
       "    .dataframe tbody tr th {\n",
       "        vertical-align: top;\n",
       "    }\n",
       "\n",
       "    .dataframe thead th {\n",
       "        text-align: right;\n",
       "    }\n",
       "</style>\n",
       "<table border=\"1\" class=\"dataframe\">\n",
       "  <thead>\n",
       "    <tr style=\"text-align: right;\">\n",
       "      <th></th>\n",
       "      <th>operator_id</th>\n",
       "      <th>call_waiting_avg_time</th>\n",
       "    </tr>\n",
       "  </thead>\n",
       "  <tbody>\n",
       "    <tr>\n",
       "      <th>551</th>\n",
       "      <td>925922.0</td>\n",
       "      <td>5805.027397</td>\n",
       "    </tr>\n",
       "    <tr>\n",
       "      <th>29</th>\n",
       "      <td>885890.0</td>\n",
       "      <td>5703.565217</td>\n",
       "    </tr>\n",
       "    <tr>\n",
       "      <th>583</th>\n",
       "      <td>929428.0</td>\n",
       "      <td>5478.123077</td>\n",
       "    </tr>\n",
       "    <tr>\n",
       "      <th>28</th>\n",
       "      <td>885876.0</td>\n",
       "      <td>4838.459364</td>\n",
       "    </tr>\n",
       "    <tr>\n",
       "      <th>317</th>\n",
       "      <td>908640.0</td>\n",
       "      <td>3537.860465</td>\n",
       "    </tr>\n",
       "    <tr>\n",
       "      <th>582</th>\n",
       "      <td>929426.0</td>\n",
       "      <td>3338.790323</td>\n",
       "    </tr>\n",
       "    <tr>\n",
       "      <th>843</th>\n",
       "      <td>945278.0</td>\n",
       "      <td>2965.590909</td>\n",
       "    </tr>\n",
       "    <tr>\n",
       "      <th>448</th>\n",
       "      <td>919364.0</td>\n",
       "      <td>2804.390244</td>\n",
       "    </tr>\n",
       "    <tr>\n",
       "      <th>847</th>\n",
       "      <td>945286.0</td>\n",
       "      <td>2178.177419</td>\n",
       "    </tr>\n",
       "    <tr>\n",
       "      <th>870</th>\n",
       "      <td>945904.0</td>\n",
       "      <td>2073.459459</td>\n",
       "    </tr>\n",
       "  </tbody>\n",
       "</table>\n",
       "</div>"
      ],
      "text/plain": [
       "     operator_id  call_waiting_avg_time\n",
       "551     925922.0            5805.027397\n",
       "29      885890.0            5703.565217\n",
       "583     929428.0            5478.123077\n",
       "28      885876.0            4838.459364\n",
       "317     908640.0            3537.860465\n",
       "582     929426.0            3338.790323\n",
       "843     945278.0            2965.590909\n",
       "448     919364.0            2804.390244\n",
       "847     945286.0            2178.177419\n",
       "870     945904.0            2073.459459"
      ]
     },
     "metadata": {},
     "output_type": "display_data"
    },
    {
     "data": {
      "text/plain": [
       "count    1092.000000\n",
       "mean      216.086098\n",
       "std       506.996689\n",
       "min         0.000000\n",
       "25%        23.000000\n",
       "50%        46.619048\n",
       "75%       159.758929\n",
       "max      5805.027397\n",
       "Name: call_waiting_avg_time, dtype: float64"
      ]
     },
     "metadata": {},
     "output_type": "display_data"
    },
    {
     "data": {
      "image/png": "[encoded data removed]",
      "text/plain": [
       "<Figure size 1200x600 with 1 Axes>"
      ]
     },
     "metadata": {},
     "output_type": "display_data"
    }
   ],
   "source": [
    "# Ahora veremos los datos de aquellos que tengan un alto tiempo acumulado de espera:\n",
    "call_waiting_time_per_operators = merged_df.groupby('operator_id')['call_waiting_time'].mean().reset_index()\n",
    "call_waiting_time_per_operators = call_waiting_time_per_operators.sort_values(by='call_waiting_time', ascending=False)\n",
    "call_waiting_time_per_operators.columns = ['operator_id', 'call_waiting_avg_time' ]\n",
    "display(call_waiting_time_per_operators.head(10))\n",
    "display(call_waiting_time_per_operators['call_waiting_avg_time'].describe())\n",
    "\n",
    "\n",
    "# Representación gráfica de la distribución de tiempos promedios de espera por usuario:\n",
    "plt.figure(figsize=(12, 6))\n",
    "sns.histplot(data=call_waiting_time_per_operators['call_waiting_avg_time'], kde=True, bins=30, color='blue')\n",
    "plt.title('Histograma de distribución de tiempos promedios de espera por usuario')\n",
    "plt.xlabel('Tiempos promedio de espera por usuario')\n",
    "plt.ylabel('Frecuencia')\n",
    "plt.show()"
   ]
  },
  {
   "cell_type": "code",
   "execution_count": 160,
   "metadata": {},
   "outputs": [
    {
     "data": {
      "text/html": [
       "<div>\n",
       "<style scoped>\n",
       "    .dataframe tbody tr th:only-of-type {\n",
       "        vertical-align: middle;\n",
       "    }\n",
       "\n",
       "    .dataframe tbody tr th {\n",
       "        vertical-align: top;\n",
       "    }\n",
       "\n",
       "    .dataframe thead th {\n",
       "        text-align: right;\n",
       "    }\n",
       "</style>\n",
       "<table border=\"1\" class=\"dataframe\">\n",
       "  <thead>\n",
       "    <tr style=\"text-align: right;\">\n",
       "      <th></th>\n",
       "      <th>operator_id</th>\n",
       "      <th>outgoing_calls_count</th>\n",
       "    </tr>\n",
       "  </thead>\n",
       "  <tbody>\n",
       "    <tr>\n",
       "      <th>793</th>\n",
       "      <td>955086.0</td>\n",
       "      <td>1</td>\n",
       "    </tr>\n",
       "    <tr>\n",
       "      <th>841</th>\n",
       "      <td>963716.0</td>\n",
       "      <td>1</td>\n",
       "    </tr>\n",
       "    <tr>\n",
       "      <th>293</th>\n",
       "      <td>914272.0</td>\n",
       "      <td>1</td>\n",
       "    </tr>\n",
       "    <tr>\n",
       "      <th>495</th>\n",
       "      <td>932246.0</td>\n",
       "      <td>1</td>\n",
       "    </tr>\n",
       "    <tr>\n",
       "      <th>168</th>\n",
       "      <td>902238.0</td>\n",
       "      <td>1</td>\n",
       "    </tr>\n",
       "    <tr>\n",
       "      <th>653</th>\n",
       "      <td>941816.0</td>\n",
       "      <td>1</td>\n",
       "    </tr>\n",
       "    <tr>\n",
       "      <th>853</th>\n",
       "      <td>966686.0</td>\n",
       "      <td>1</td>\n",
       "    </tr>\n",
       "    <tr>\n",
       "      <th>654</th>\n",
       "      <td>941826.0</td>\n",
       "      <td>1</td>\n",
       "    </tr>\n",
       "    <tr>\n",
       "      <th>102</th>\n",
       "      <td>895266.0</td>\n",
       "      <td>1</td>\n",
       "    </tr>\n",
       "    <tr>\n",
       "      <th>545</th>\n",
       "      <td>937720.0</td>\n",
       "      <td>1</td>\n",
       "    </tr>\n",
       "  </tbody>\n",
       "</table>\n",
       "</div>"
      ],
      "text/plain": [
       "     operator_id  outgoing_calls_count\n",
       "793     955086.0                     1\n",
       "841     963716.0                     1\n",
       "293     914272.0                     1\n",
       "495     932246.0                     1\n",
       "168     902238.0                     1\n",
       "653     941816.0                     1\n",
       "853     966686.0                     1\n",
       "654     941826.0                     1\n",
       "102     895266.0                     1\n",
       "545     937720.0                     1"
      ]
     },
     "metadata": {},
     "output_type": "display_data"
    },
    {
     "data": {
      "text/plain": [
       "count      882.000000\n",
       "mean       689.731293\n",
       "std       3122.953946\n",
       "min          1.000000\n",
       "25%         11.000000\n",
       "50%         90.000000\n",
       "75%        597.250000\n",
       "max      58977.000000\n",
       "Name: outgoing_calls_count, dtype: float64"
      ]
     },
     "metadata": {},
     "output_type": "display_data"
    },
    {
     "data": {
      "image/png": "[encoded data removed]",
      "text/plain": [
       "<Figure size 1200x600 with 1 Axes>"
      ]
     },
     "metadata": {},
     "output_type": "display_data"
    }
   ],
   "source": [
    "# Finalmente revisaremos aquellos que realizan pocas llamadas ('direction' = out):\n",
    "out_calls = merged_df[merged_df['direction']=='out']\n",
    "out_calls_low_frequency = out_calls.groupby('operator_id')['calls_count'].sum().reset_index()\n",
    "out_calls_low_frequency.columns = ['operator_id', 'outgoing_calls_count']\n",
    "out_calls_low_frequency = out_calls_low_frequency.sort_values(by='outgoing_calls_count', ascending=True)\n",
    "display(out_calls_low_frequency.head(10))\n",
    "display(out_calls_low_frequency['outgoing_calls_count'].describe())\n",
    "\n",
    "# Representación gráfica de la distribución del número de llamadas perdidas:\n",
    "plt.figure(figsize=(12, 6))\n",
    "sns.histplot(data=out_calls_low_frequency['outgoing_calls_count'], kde=True, bins=30, color='blue')\n",
    "plt.title('Histograma de distribución de las llamadas salientes realizadas por usuario')\n",
    "plt.xlabel('Cantidad de llamadas salientes realizadas por usuario')\n",
    "plt.ylabel('Frecuencia')\n",
    "plt.show()"
   ]
  },
  {
   "cell_type": "markdown",
   "metadata": {},
   "source": [
    "# **6. Identificación de Operadores Ineficaces:**\n",
    "   - Aplicar los umbrales definidos para identificar a los operadores ineficaces a partir de métodos que ayuden a filtrar los datasets previamente analizados en función de aquellos que estén por debajo de los umbrales definidos.\n",
    "\n",
    "1. El 75% de los operadores tienen 229 llamadas perdidas o menos, sin embargo los que están fuera de ese rango contribuyen demasiado a que la gráfica tenga un sesgo alto hacia la derecha.\n",
    "2. Los tiempos promedios de espera están en 216 segundos, sin embargo los operadores que lideran el Top están muy por encima de ese promedio, sesgando la gráfica a la derecha.\n"
   ]
  },
  {
   "cell_type": "markdown",
   "metadata": {},
   "source": [
    "# **7. Etapa de Hipótesis**\n",
    "\n",
    "En esta etapa se definen las hipótesis a partir de una noción previa producto del análisis. **Por ejemplo** se podría establecer que:\n",
    "\n",
    "1. **Hipótesis 1:** Los operadores que realizan pocas llamadas salientes, cuando se supone que deben hacerlas, son ineficaces.\n",
    "2. **Hipótesis 2:** Los operadores con un alto porcentaje de llamadas perdidas son ineficaces.\n",
    "3. **Hipótesis 3:** Los operadores con tiempos de espera prolongados para las llamadas entrantes son ineficaces.\n",
    "4. **Hipótesis 4:** Los operadores que contactan con clientes con fechas de registros más recientes suelen ser ineficaces.\n"
   ]
  },
  {
   "cell_type": "markdown",
   "metadata": {},
   "source": [
    "## **7.1 Definir el tipo de prueba estadística en función de los resultados obtenidos en el análisis.**\n",
    "\n",
    "En este paso se definen y realizan las pruebas estadísticas correspondiente en función de la hipótesis a probar y el comportamiento de los datos en el análisis. Confirmar y/o rechazar las hipótesis a partir de los resultados de las pruebas.\n",
    "\n",
    "Los tests de hipótesis serán hechos basado en [proportions_ztest](https://www.statsmodels.org/dev/generated/statsmodels.stats.proportion.proportions_ztest.html), [ttest_ind](https://docs.scipy.org/doc/scipy/reference/generated/scipy.stats.ttest_ind.html)"
   ]
  },
  {
   "cell_type": "code",
   "execution_count": 173,
   "metadata": {},
   "outputs": [
    {
     "name": "stdout",
     "output_type": "stream",
     "text": [
      "T-statistic: -3.716708876993917, P-value: 0.00021458609982268488\n"
     ]
    }
   ],
   "source": [
    "# Hipótesis 1: Los operadores que realizan pocas llamadas salientes, cuando se supone que deben hacerlas, son ineficaces.\n",
    "\n",
    "# En este caso retomaremos la variable out_calls_low_frequency y definiremos el umbral threshold_3:\n",
    "\n",
    "threshold_1 = out_calls_low_frequency['outgoing_calls_count'].quantile(0.25)\n",
    "ineffective_operators = out_calls_low_frequency[out_calls_low_frequency['outgoing_calls_count'] < threshold_1]\n",
    "effective_operators = out_calls_low_frequency[out_calls_low_frequency['outgoing_calls_count'] >= threshold_1]\n",
    "\n",
    "# Realizar T-test\n",
    "t_stat, p_value = ttest_ind(ineffective_operators['outgoing_calls_count'], effective_operators['outgoing_calls_count'])\n",
    "\n",
    "print(f'T-statistic: {t_stat}, P-value: {p_value}')"
   ]
  },
  {
   "cell_type": "markdown",
   "metadata": {},
   "source": [
    "### **Conclusión sobre la Hipótesis 1:**\n",
    "Dado el T-statistic negativo y el P-value tan bajo, rechazamos la hipótesis nula. La hipótesis nula probablemente plantea que no hay diferencia significativa en la eficacia de los operadores basada en la cantidad de llamadas salientes realizadas. Al rechazar la hipótesis nula, apoyamos la hipótesis alternativa, que establece que los operadores que realizan pocas llamadas salientes, cuando se supone que deben hacerlas, son ineficaces.\n",
    "\n",
    "**Recomendaciones basadas en los resultados:**\n",
    "1. Los trabajadores deben tener un script guía claro que especifique como actuar en caso de interactuar con un usuario. Tener una especie de 'TroubleShooting' que estudien constantemente y se retroalimenten de ellos para evitar ser ineficaces cuando interactúen con los clientes.\n",
    "2. Definir una meta en un periodo de tiempo concreto. Por ejemplo: Número mínimo de llamadas diarias, para poder establecer más fácilmente si el operador, al menos a la hora de realizar llamadas externas, es eficiente o no."
   ]
  },
  {
   "cell_type": "code",
   "execution_count": 174,
   "metadata": {},
   "outputs": [
    {
     "name": "stdout",
     "output_type": "stream",
     "text": [
      "Z-statistic: -23.366642891095847, P-value: 9.33594702908221e-121\n"
     ]
    }
   ],
   "source": [
    "# Hipótesis 2: Los operadores con un alto porcentaje de llamadas perdidas son ineficaces:\n",
    "\n",
    "# Calcular el porcentaje de llamadas perdidas por operador\n",
    "operator_missed_calls = merged_df.groupby('operator_id')['reasigned_is_missed_call'].mean().reset_index()\n",
    "operator_missed_calls.columns = ['operator_id', 'avg_missed_calls']\n",
    "\n",
    "# Definir el umbral, en este caso el 25% superior de operadores con más llamadas perdidas:\n",
    "threshold_2 = operator_missed_calls['avg_missed_calls'].quantile(0.75)\n",
    "\n",
    "# Separación de operadores ineficaces de los eficaces:\n",
    "ineffective_operators = operator_missed_calls[operator_missed_calls['avg_missed_calls'] > threshold_2]\n",
    "effective_operators = operator_missed_calls[operator_missed_calls['avg_missed_calls'] <= threshold_2]\n",
    "\n",
    "# Realizar el test de proporciones\n",
    "count = [len(ineffective_operators), len(effective_operators)]\n",
    "nobs = [len(operator_missed_calls), len(operator_missed_calls)]\n",
    "stat, p_value = proportions_ztest(count, nobs)\n",
    "\n",
    "print(f'Z-statistic: {stat}, P-value: {p_value}')"
   ]
  },
  {
   "cell_type": "markdown",
   "metadata": {},
   "source": [
    "### **Conclusión sobre la Hipótesis 2:**\n",
    "Dado el Z-statistic tan extremo y alejado de 0; y el P-value extremadamente bajo, rechazamos la hipótesis nula. En este caso, la hipótesis nula sostendría que no hay diferencia significativa en la eficacia de los operadores basada en el porcentaje de llamadas perdidas. Al rechazar la hipótesis nula, apoyamos la hipótesis alternativa, que sugiere que los **operadores con un alto porcentaje de llamadas perdidas son ineficaces.**\n",
    "\n",
    "**Recomendaciones basadas en los resultados:**\n",
    "1. Revisar la carga laboral de los operadores. Es probable que al tener un volumen alto de asignaciones no puedan atender llamadas y por ende impactar en la eficacia de recepción de llamadas.\n",
    "2. Revisión de procedimientos: Implementar cambios en los procedimientos de manejo de llamadas para reducir las llamadas perdidas.\n",
    "3. Monitorear a través de seguimiento estadístico a los operadores que actualmente estén incurriendo en alto porcentaje de llamadas perdidas."
   ]
  },
  {
   "cell_type": "code",
   "execution_count": 175,
   "metadata": {},
   "outputs": [
    {
     "name": "stdout",
     "output_type": "stream",
     "text": [
      "T-statistic: 24.102962465450656, P-value: 3.1171513011797517e-103\n"
     ]
    }
   ],
   "source": [
    "# Hipótesis 3: Los operadores con tiempos de espera prolongados para las llamadas entrantes son ineficaces.\n",
    "\n",
    "# Definir umbral (por ejemplo, 25% superior)\n",
    "threshold_3 = call_waiting_time_per_operators['call_waiting_avg_time'].quantile(0.75)\n",
    "\n",
    "# Separación de operadores ineficaces de los eficaces:\n",
    "ineffective_operators = call_waiting_time_per_operators[call_waiting_time_per_operators['call_waiting_avg_time'] > threshold_3]\n",
    "effective_operators = call_waiting_time_per_operators[call_waiting_time_per_operators['call_waiting_avg_time'] <= threshold_3]\n",
    "\n",
    "# Tiempos de espera\n",
    "ineffective_times = ineffective_operators['call_waiting_avg_time']\n",
    "effective_times = effective_operators['call_waiting_avg_time']\n",
    "\n",
    "# Realizar T-test\n",
    "t_stat, p_value = ttest_ind(ineffective_times, effective_times)\n",
    "\n",
    "print(f'T-statistic: {t_stat}, P-value: {p_value}')"
   ]
  },
  {
   "cell_type": "markdown",
   "metadata": {},
   "source": [
    "### **Conclusión sobre la Hipótesis 3**:\n",
    "Dado el T-statistic tan alto y el P-value extremadamente bajo, rechazamos la hipótesis nula. En este caso, la hipótesis nula probablemente sostiene que no hay diferencia significativa en la eficacia de los operadores basada en el tiempo de espera para las llamadas entrantes. Al rechazar la hipótesis nula, apoyamos la hipótesis alternativa, que sugiere que **los operadores con tiempos de espera prolongados para las llamadas entrantes son ineficaces.**\n",
    "\n",
    "**Recomendaciones basadas en los resultados:**\n",
    "1. Revisar la carga laboral de los operadores. Es probable que al tener un volumen alto de asignaciones tienen unos altos tiempos de espera a sus usuarios.\n",
    "2. Mejorar los sistemas de gestión de llamadas.\n",
    "3. Capacitar a los operadores sobre en diferentes habilidades: Gestión del tiempo, definición de prioridades, ser más eficientes a la hora de dar instrucciones a los usuarios, entre otros."
   ]
  },
  {
   "cell_type": "code",
   "execution_count": 176,
   "metadata": {},
   "outputs": [
    {
     "name": "stdout",
     "output_type": "stream",
     "text": [
      "Correlación de Pearson: -0.01671718261702325, P-value: 0.0006554374008816826\n"
     ]
    }
   ],
   "source": [
    "# Hipótesis 4: Los operadores que contactan con clientes con fechas de registros más recientes suelen ser ineficaces.\n",
    "\n",
    "# Para ello necesitamos definir a los clientes \"más nuevos\". Usaremos una resta referente al número de días transcurridos (tomando el día presente como parámetro de medida):\n",
    "merged_df['current_client_age'] = (pd.Timestamp('today') - merged_df['date_start']).dt.days\n",
    "\n",
    "# Calcular correlación entre antigüedad de cliente y eficacia (llamadas perdidas)\n",
    "corr, p_value = pearsonr(merged_df['current_client_age'], merged_df['reasigned_is_missed_call'])\n",
    "\n",
    "print(f'Correlación de Pearson: {corr}, P-value: {p_value}')"
   ]
  },
  {
   "cell_type": "markdown",
   "metadata": {},
   "source": [
    "### **Conclusión sobre la Hipótesis 4:**\n",
    "Resultado: Dado que la correlación es prácticamente nula, no hay evidencia práctica que respalde la hipótesis declarada. No se puede concluir que contactar a clientes con fechas de registro más recientes influya de manera significativa en la ineficacia de los operadores.\n",
    "\n",
    "**Recomendaciones basadas en los resultados:**\n",
    "\n",
    "En este caso se recomienda explorar otras variables que puedan estar afectando la eficacia de los operadores: \n",
    "1. Considerar Contexto Operativo: Es importante contextualizar los resultados dentro de las operaciones diarias y procedimientos de la empresa para interpretar adecuadamente los hallazgos.\n",
    "2. Estrategia de Contacto: Los resultados indican que la fecha de registro de los clientes no es un factor determinante en la eficacia de los operadores. Por lo tanto, no sería necesario ajustar las estrategias de contacto basándose únicamente en la antigüedad del registro de los clientes.\n",
    "3. Enfoque en Otros Factores: Sería más productivo centrar la atención en otros factores que puedan tener una influencia más significativa en la eficacia de los operadores, como la capacitación, la experiencia, la satisfacción del cliente, entre otros."
   ]
  },
  {
   "cell_type": "markdown",
   "metadata": {},
   "source": [
    "# **8. Conclusiones de los análisis realizados y proposiciones de acciones de mejora**\n",
    "\n",
    "Finalmente, elaborar conclusiones a partir de los estudios analíticos realizados.\n",
    "\n",
    "Conclusiones y sugerencias que aporten valor a los actores interesados en el proceso de estudio definidos en el apartado 1.2\n",
    "\n"
   ]
  },
  {
   "cell_type": "markdown",
   "metadata": {},
   "source": [
    "## **8.1 Verificar si las conclusiones van en función de las posibles soluciones propuestas en el paso 1.3**\n",
    "\n",
    "**Posibles soluciones luego del análisis y las pruebas de hipótesis:**\n",
    "\n",
    "- **Capacitación de operadores:** Identificar necesidades de capacitación para mejorar el desempeño de operadores ineficaces y de aquellos que estén haciendo bien su trabajo actualmente (ejemplos a seguir).\n",
    "- **Redistribución de tareas:** Ajustar la carga de trabajo y responsabilidades de los operadores para equilibrar la eficiencia operativa. Además de eliminar tareas que puedan resultar innecesarias.\n",
    "- **Revisión de procedimientos:** Implementar cambios en los procedimientos de manejo de llamadas para reducir los tiempos de espera y las llamadas perdidas.\n",
    "- **Evaluación de rendimiento:** Realizar evaluaciones periódicas del rendimiento de los operadores utilizando métricas clave para garantizar la mejora continua.\n",
    "- **Optimización del servicio:** Ajustar las estrategias operativas y los planes de acción para mejorar la eficiencia general del servicio de telefonía virtual.\n",
    "- **Retroalimentación del proceso:** Al establecer acciones de retroalimentación, se garantiza la vinculación de todos aquellos actores implicados en el proceso y que tengan la capacidad de establecer acciones propositivas, documentadas y de mejora continua que alimenten el proceso constantemente, indiferente de su posición jerárquica en la empresa."
   ]
  },
  {
   "cell_type": "markdown",
   "metadata": {},
   "source": [
    "# **9. Presentación de los análisis de los resultados en función del actor interesado (stakeholder):**\n",
    "\n",
    "En este paso final, es importante establecer a quien irá dirigido el reporte a presentar:\n",
    "\n",
    "1. **Dashboard para seguimiento de indicadores:** Esta solución podría interesar a los supervisores y a los mismos operadores para tener presente su estado actual en términos de eficacia en su operación.\n",
    "2. **Reporte/Presentación de los resultados en diapositivas o reporte corporativo:** En este caso, simplemente se puede tener un estado actual de la situación que puede interesar a cargos administrativos más altos que ayuden a entender las acciones a tomar y poder retroalimentar a su personal y a los clientes. "
   ]
  }
 ],
 "metadata": {
  "kernelspec": {
   "display_name": "Python 3",
   "language": "python",
   "name": "python3"
  },
  "language_info": {
   "codemirror_mode": {
    "name": "ipython",
    "version": 3
   },
   "file_extension": ".py",
   "mimetype": "text/x-python",
   "name": "python",
   "nbconvert_exporter": "python",
   "pygments_lexer": "ipython3",
   "version": "3.10.11"
  }
 },
 "nbformat": 4,
 "nbformat_minor": 2
}
